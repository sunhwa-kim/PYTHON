{
 "cells": [
  {
   "cell_type": "markdown",
   "metadata": {},
   "source": [
    "- 2의지수 올라갈수록 사격형의 개수 4배식 증가\n",
    "- 사각형의 사분위로 나눠서 지름길이 반 줄은 만큼 시작점을 사각형 개수 만큼 새롭게 잡아줌\n",
    "- 조건문"
   ]
  },
  {
   "cell_type": "code",
   "execution_count": 2,
   "metadata": {},
   "outputs": [
    {
     "name": "stdout",
     "output_type": "stream",
     "text": [
      "3 7 7\n",
      "63\n"
     ]
    }
   ],
   "source": [
    "n,r,c = map(int, input().split(' '))\n",
    "distance = pow(2,n)\n",
    "start = 0\n",
    "\n",
    "while n>0:\n",
    "    start_point = distance//2\n",
    "    if c >= start_point:\n",
    "        start += pow(start_point,2)\n",
    "        c -= start_point\n",
    "    if r >= start_point:\n",
    "        start += pow(start_point,2)*2\n",
    "        r -= start_point\n",
    "        \n",
    "    distance/=2\n",
    "    n-=1\n",
    "\n",
    "if r>0:\n",
    "    r+=1\n",
    "result = int(start+r+c)\n",
    "print(result)"
   ]
  }
 ],
 "metadata": {
  "kernelspec": {
   "display_name": "Python 3",
   "language": "python",
   "name": "python3"
  },
  "language_info": {
   "codemirror_mode": {
    "name": "ipython",
    "version": 3
   },
   "file_extension": ".py",
   "mimetype": "text/x-python",
   "name": "python",
   "nbconvert_exporter": "python",
   "pygments_lexer": "ipython3",
   "version": "3.7.6"
  }
 },
 "nbformat": 4,
 "nbformat_minor": 4
}
