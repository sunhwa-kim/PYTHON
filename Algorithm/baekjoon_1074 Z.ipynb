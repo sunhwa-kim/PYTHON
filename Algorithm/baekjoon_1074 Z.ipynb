{
 "cells": [
  {
   "cell_type": "markdown",
   "metadata": {},
   "source": [
    "- 2의지수 올라갈수록 사격형의 개수 4배식 증가\n",
    "- 사각형의 사분위로 나눠서 지름길이 반 줄은 만큼 시작점을 사각형 개수 만큼 새롭게 잡아줌\n",
    "- 조건문"
   ]
  },
  {
   "cell_type": "code",
   "execution_count": 2,
   "metadata": {},
   "outputs": [
    {
     "name": "stdout",
     "output_type": "stream",
     "text": [
      "3 7 7\n",
      "63\n"
     ]
    }
   ],
   "source": [
    "n,y,x = map(int, input().split(' '))\n",
    "length = pow(2,n)\n",
    "result = 0\n",
    "while length > 0:\n",
    "    length = length//2\n",
    "    if x >= length:   # 0부터 시작 = 0,1이 length =2 일때니까 부등호 \n",
    "        x-= length\n",
    "        result += pow(length,2)\n",
    "    if y >= length:\n",
    "        y -= length  \n",
    "        result += pow(length,2)*2\n",
    "        \n",
    "print(result)"
   ]
  },
  {
   "cell_type": "markdown",
   "metadata": {},
   "source": [
    "- N <=15  :  32768"
   ]
  },
  {
   "cell_type": "code",
   "execution_count": 1,
   "metadata": {},
   "outputs": [
    {
     "name": "stdout",
     "output_type": "stream",
     "text": [
      "3 7 7\n",
      "63\n"
     ]
    }
   ],
   "source": [
    "# class  => 시간초과\n",
    "def solve(n, x,y):   #  n만큼 좌표 돌아야 하고\n",
    "    global result  # global안하고 매개변수로 넣어주면... 덧셈 안돼...모르겠음...\n",
    "     #n=2일 때만 찾아가고 나머지 좌표는 재귀적을 돌아서 찾아가게\n",
    "    if n==2:\n",
    "        if x==X and y==Y:\n",
    "            print(result)\n",
    "            return\n",
    "        result+=1\n",
    "        if x==X and y+1==Y:\n",
    "            print(result)\n",
    "            return\n",
    "        result+=1\n",
    "        if x+1==X and y==Y:\n",
    "            print(result)\n",
    "            return\n",
    "        result+=1\n",
    "        if x+1==X and y+1==Y:\n",
    "            print(result)\n",
    "            return\n",
    "        result+=1\n",
    "        # 어쨌든 범위 까지 찾았으니까 \n",
    "        return   # 여기서 return 필수  : maximum recursion depth exceeded in comparison\n",
    "    # 사각 범위는 줄어 들고, 0에서 시작한 좌표들은 그만큼 숫자 증가 시켜 ( 즉 사분면 찾아가면서 그 좌표 찾는 로직)\n",
    "    solve(n/2,x,y)\n",
    "    solve(n/2,x,y+n/2)    \n",
    "    solve(n/2,x+n/2,y)    \n",
    "    solve(n/2,x+n/2,y+n/2) \n",
    "\n",
    "result =0 \n",
    "N,X,Y = map(int,input().split(' '))\n",
    "solve(2**N,0,0)"
   ]
  }
 ],
 "metadata": {
  "kernelspec": {
   "display_name": "Python 3",
   "language": "python",
   "name": "python3"
  },
  "language_info": {
   "codemirror_mode": {
    "name": "ipython",
    "version": 3
   },
   "file_extension": ".py",
   "mimetype": "text/x-python",
   "name": "python",
   "nbconvert_exporter": "python",
   "pygments_lexer": "ipython3",
   "version": "3.7.6"
  }
 },
 "nbformat": 4,
 "nbformat_minor": 4
}
