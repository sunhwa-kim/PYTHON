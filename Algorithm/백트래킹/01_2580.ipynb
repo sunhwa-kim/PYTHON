{
 "cells": [
  {
   "cell_type": "markdown",
   "metadata": {},
   "source": [
    "#### 2580 스도쿠"
   ]
  },
  {
   "cell_type": "code",
   "execution_count": 26,
   "metadata": {
    "scrolled": true
   },
   "outputs": [
    {
     "data": {
      "text/plain": [
       "[False, True, True, True, True, True, True, True, True, True]"
      ]
     },
     "execution_count": 26,
     "metadata": {},
     "output_type": "execute_result"
    }
   ],
   "source": [
    "num_list = [False] + [True for _ in range(9)]\n",
    "num_list"
   ]
  },
  {
   "cell_type": "code",
   "execution_count": 20,
   "metadata": {
    "scrolled": true
   },
   "outputs": [
    {
     "name": "stdout",
     "output_type": "stream",
     "text": [
      "0 3 5 4 6 9 2 7 8\n",
      "7 8 2 1 0 5 6 0 9\n",
      "0 6 0 2 7 8 1 3 5\n",
      "3 2 1 0 4 6 8 9 7\n",
      "8 0 4 9 1 3 5 0 6\n",
      "5 9 6 8 2 0 4 1 3\n",
      "9 1 7 6 5 2 0 8 0\n",
      "6 0 3 7 0 1 9 5 2\n",
      "2 5 8 3 9 4 7 6 0\n",
      "1 3 5 4 6 9 2 7 8\n",
      "7 8 2 1 3 5 6 4 9\n",
      "4 6 9 2 7 8 1 3 5\n",
      "3 2 1 5 4 6 8 9 7\n",
      "8 7 4 9 1 3 5 2 6\n",
      "5 9 6 8 2 7 4 1 3\n",
      "9 1 7 6 5 2 3 8 4\n",
      "6 4 3 7 8 1 9 5 2\n",
      "2 5 8 3 9 4 7 6 1\n"
     ]
    },
    {
     "ename": "SystemExit",
     "evalue": "0",
     "output_type": "error",
     "traceback": [
      "An exception has occurred, use %tb to see the full traceback.\n",
      "\u001b[1;31mSystemExit\u001b[0m\u001b[1;31m:\u001b[0m 0\n"
     ]
    },
    {
     "name": "stderr",
     "output_type": "stream",
     "text": [
      "C:\\Users\\shkim\\py\\anaconda3\\lib\\site-packages\\IPython\\core\\interactiveshell.py:3339: UserWarning: To exit: use 'exit', 'quit', or Ctrl-D.\n",
      "  warn(\"To exit: use 'exit', 'quit', or Ctrl-D.\", stacklevel=1)\n"
     ]
    }
   ],
   "source": [
    "# https://hwiyong.tistory.com/305\n",
    "\n",
    "import sys\n",
    "\n",
    "sdk = [list(map(int, input().split())) for _ in range(9)]\n",
    "zeros = [(i, j) for i in range(9) for j in range(9) if sdk[i][j] == 0]\n",
    "\n",
    "def sdoku(index):\n",
    "    \n",
    "    # 한 바퀴에서 모든 경우를 다 보았으면 출력\n",
    "    if index == len(zeros):\n",
    "        for row in sdk:\n",
    "            print(*row)\n",
    "        sys.exit(0)\n",
    "    else:\n",
    "        x = zeros[index][0]\n",
    "        y = zeros[index][1]\n",
    "        dx = (x//3) * 3\n",
    "        dy = (y//3) * 3\n",
    "\n",
    "        # 사용할 수 있는 숫자 9개\n",
    "        num_list = [False] + [True for _ in range(9)]\n",
    "\n",
    "        for j in range(9):\n",
    "            # 가로 검사\n",
    "            # 세로 검사\n",
    "            if(sdk[x][j]):\n",
    "                num_list[sdk[x][j]] = False       \n",
    "            if(sdk[j][y]):\n",
    "                num_list[sdk[j][y]] = False\n",
    "\n",
    "        # 3*3 box 검사\n",
    "        for i in range(dx, dx + 3):\n",
    "            for j in range(dy, dy + 3):\n",
    "                check_num = sdk[i][j]\n",
    "                if(check_num):\n",
    "                    num_list[check_num] = False\n",
    "\n",
    "        # 현재 가능한 수만 가져옴\n",
    "        # 가능한 수를 가져왔으면, 이전에 다뤄왔던 백트래킹을 사용하면 됨\n",
    "        candidate_list = [i for i, k in enumerate(num_list) if k]\n",
    "        \n",
    "        # 경우의 수 고려\n",
    "        for num in candidate_list:\n",
    "            sdk[x][y] = num\n",
    "            sdoku(index + 1)\n",
    "            sdk[x][y] = 0\n",
    "sdoku(0)"
   ]
  },
  {
   "cell_type": "code",
   "execution_count": 31,
   "metadata": {},
   "outputs": [
    {
     "name": "stdout",
     "output_type": "stream",
     "text": [
      "0 3 5 4 6 9 2 7 8\n",
      "7 8 2 1 0 5 6 0 9\n",
      "0 6 0 2 7 8 1 3 5\n",
      "3 2 1 0 4 6 8 9 7\n",
      "8 0 4 9 1 3 5 0 6\n",
      "5 9 6 8 2 0 4 1 3\n",
      "9 1 7 6 5 2 0 8 0\n",
      "6 0 3 7 0 1 9 5 2\n",
      "2 5 8 3 9 4 7 6 0\n",
      "1 3 5 4 6 9 2 7 8\n",
      "7 8 2 1 3 5 6 4 9\n",
      "4 6 9 2 7 8 1 3 5\n",
      "3 2 1 5 4 6 8 9 7\n",
      "8 7 4 9 1 3 5 2 6\n",
      "5 9 6 8 2 7 4 1 3\n",
      "9 1 7 6 5 2 3 8 4\n",
      "6 4 3 7 8 1 9 5 2\n",
      "2 5 8 3 9 4 7 6 1\n"
     ]
    },
    {
     "ename": "SystemExit",
     "evalue": "",
     "output_type": "error",
     "traceback": [
      "An exception has occurred, use %tb to see the full traceback.\n",
      "\u001b[1;31mSystemExit\u001b[0m\n"
     ]
    },
    {
     "name": "stderr",
     "output_type": "stream",
     "text": [
      "C:\\Users\\shkim\\py\\anaconda3\\lib\\site-packages\\IPython\\core\\interactiveshell.py:3339: UserWarning: To exit: use 'exit', 'quit', or Ctrl-D.\n",
      "  warn(\"To exit: use 'exit', 'quit', or Ctrl-D.\", stacklevel=1)\n"
     ]
    }
   ],
   "source": [
    "import sys\n",
    "\n",
    "data = [list(map(int, input().split(' '))) for _ in range(9)]\n",
    "zeros = [(i,j) for i in range(9) for j in range(9) if data[i][j]==0]\n",
    "\n",
    "def sdoku(idx):\n",
    "    \n",
    "    if idx == len(zeros):\n",
    "        for i in data:\n",
    "            print(*i)\n",
    "        sys.exit(0)   # 백준 이거 해줘야 맞았습니다....\n",
    "        #quit()  # 라이브러리 호출 없이 내장함수로 가능 (근데 좀더 느린듯..)\n",
    "    else:\n",
    "    \n",
    "    # 숫자는 9개뿐 가능한 리스트 만들기\n",
    "        num_list = [False]+[ True for _ in range(9)]\n",
    "\n",
    "        x = zeros[idx][0]\n",
    "        y = zeros[idx][1]\n",
    "\n",
    "        dx = (x//3)*3\n",
    "        dy = (y//3)*3\n",
    "\n",
    "        for i in range(9):\n",
    "            if data[x][i]:  # 0 False\n",
    "                num_list[data[x][i]] = False\n",
    "            if data[i][y]:\n",
    "                num_list[data[i][y]] = False\n",
    "\n",
    "        for i in range(dx, dx+3):\n",
    "            for j in range(dy, dy+3):\n",
    "                if data[i][j]:\n",
    "                    num_list[data[i][j]] = False\n",
    "\n",
    "        candidate = [i for i,j in enumerate(num_list) if j]   # True 인 것만\n",
    "        for num in candidate:\n",
    "            data[x][y]=num\n",
    "            sdoku(idx+1)\n",
    "            data[x][y] = 0   #  맞았다면 종료조건까지 가서 출력 하고 끝났을 텐데 아니라면 recursive 아래 시작되고 => 다시 원본 데이터로 복구\n",
    "            \n",
    "            \n",
    "sdoku(0)"
   ]
  },
  {
   "cell_type": "code",
   "execution_count": null,
   "metadata": {},
   "outputs": [],
   "source": [
    "0 3 5 4 6 9 2 7 8\n",
    "7 8 2 1 0 5 6 0 9\n",
    "0 6 0 2 7 8 1 3 5\n",
    "3 2 1 0 4 6 8 9 7\n",
    "8 0 4 9 1 3 5 0 6\n",
    "5 9 6 8 2 0 4 1 3\n",
    "9 1 7 6 5 2 0 8 0\n",
    "6 0 3 7 0 1 9 5 2\n",
    "2 5 8 3 9 4 7 6 0"
   ]
  },
  {
   "cell_type": "code",
   "execution_count": 24,
   "metadata": {
    "scrolled": true
   },
   "outputs": [
    {
     "name": "stdout",
     "output_type": "stream",
     "text": [
      "0 3 5 4 6 9 2 7 8\n",
      "7 8 2 1 0 5 6 0 9\n",
      "0 6 0 2 7 8 1 3 5\n",
      "3 2 1 0 4 6 8 9 7\n",
      "8 0 4 9 1 3 5 0 6\n",
      "5 9 6 8 2 0 4 1 3\n",
      "9 1 7 6 5 2 0 8 0\n",
      "6 0 3 7 0 1 9 5 2\n",
      "2 5 8 3 9 4 7 6 0\n"
     ]
    }
   ],
   "source": [
    "#  틀렸습니다... 생각해 보니.. 숫자는 9개뿐이야. \n",
    "# 틀렸습니다.  - 나는 아직 완전 탐색에 대해서.. 막상 구현하려고 하면 모르고. 그냥 방법적으로 채워나가는 것만.. 근데 그러면 완전탐색은 틀려\n",
    "#  사각형이 3칸씩 범위지어져 있는걸 못했어\n",
    "#   가로의 경우만 생각, 세로 추가\n",
    "data = [list(map(int, input().split(' ')))  for _ in range(9)]\n",
    "zeros = [(i,j) for i in range(9) for j in range(9) if data[i][j]==0]\n",
    "\n",
    "def promising(y,x,num):\n",
    "    dx = (x//3)*3\n",
    "    dy = (x//3)*3\n",
    "    for col in range(dy, dy+3):\n",
    "        for row in range(dx, dx+3):\n",
    "            if col>=0 and col <9 and row>=0 and row<9:\n",
    "                if num == data[col][row]:\n",
    "                    return False\n",
    "                else:\n",
    "                    return True\n",
    "\n",
    "for zero in zeros:\n",
    "    x,y = zero\n",
    "#     cols, rows = [],[]\n",
    "#     for i in range(9):\n",
    "#         cols.append(data[x][i])\n",
    "#         rows.append(data[i][y])\n",
    "    cols = [data[x][i] for i in range(9)]\n",
    "    rows = [data[i][y] for i in range(9)]\n",
    "    for num in range(1,10):\n",
    "        if num not in cols and num not in rows and promising(x,y,num):\n",
    "            data[x][y] = num\n",
    "                \n",
    "            \n",
    "for i in data:\n",
    "    print(*i)"
   ]
  }
 ],
 "metadata": {
  "kernelspec": {
   "display_name": "Python 3",
   "language": "python",
   "name": "python3"
  },
  "language_info": {
   "codemirror_mode": {
    "name": "ipython",
    "version": 3
   },
   "file_extension": ".py",
   "mimetype": "text/x-python",
   "name": "python",
   "nbconvert_exporter": "python",
   "pygments_lexer": "ipython3",
   "version": "3.7.6"
  }
 },
 "nbformat": 4,
 "nbformat_minor": 4
}
