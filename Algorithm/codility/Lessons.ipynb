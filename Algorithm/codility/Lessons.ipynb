{
 "cells": [
  {
   "cell_type": "markdown",
   "metadata": {},
   "source": [
    "#### Lessons 2"
   ]
  },
  {
   "cell_type": "code",
   "execution_count": 25,
   "metadata": {},
   "outputs": [],
   "source": [
    "A = [9,3,9,3,9,7,9]"
   ]
  },
  {
   "cell_type": "code",
   "execution_count": 42,
   "metadata": {
    "scrolled": true
   },
   "outputs": [
    {
     "data": {
      "text/plain": [
       "7"
      ]
     },
     "execution_count": 42,
     "metadata": {},
     "output_type": "execute_result"
    }
   ],
   "source": [
    "# O(N) or O(N*log(N))\n",
    "# https://app.codility.com/demo/results/trainingPES4WH-K6P/\n",
    "\n",
    "from collections import deque\n",
    "\n",
    "def solution(A):\n",
    "    # write your code in Python 3.6\n",
    "    A.sort()\n",
    "    A = deque(A)\n",
    "    while A:\n",
    "        data = A.popleft()\n",
    "        if len(A) > 1 and data == A.popleft():   # len(A) 조건 없으면 runtime error\n",
    "            continue\n",
    "        else:\n",
    "            return data\n",
    "            \n",
    "    return 0\n",
    "A = [3,3,9,9,7]\n",
    "solution(A)"
   ]
  },
  {
   "cell_type": "code",
   "execution_count": 44,
   "metadata": {},
   "outputs": [
    {
     "data": {
      "text/plain": [
       "7"
      ]
     },
     "execution_count": 44,
     "metadata": {},
     "output_type": "execute_result"
    }
   ],
   "source": [
    "# 참고\n",
    "# https://wayhome25.github.io/algorithm/2017/04/30/OddOccurrencesInArray/\n",
    "from functools import reduce\n",
    "\n",
    "\n",
    "def solution(A):\n",
    "    return reduce(lambda x,y: x^y, A)\n",
    "\n",
    "A = [3,3,9,9,7]\n",
    "solution(A)\n",
    "\n",
    "\n",
    "\n",
    "#  x^y  =>  Bitwise operators \n",
    "#   reduce()"
   ]
  },
  {
   "cell_type": "markdown",
   "metadata": {},
   "source": [
    "#### Lessons 3\n",
    "- PermMissingElem"
   ]
  },
  {
   "cell_type": "code",
   "execution_count": 52,
   "metadata": {
    "scrolled": true
   },
   "outputs": [
    {
     "data": {
      "text/plain": [
       "4"
      ]
     },
     "execution_count": 52,
     "metadata": {},
     "output_type": "execute_result"
    }
   ],
   "source": [
    "# https://app.codility.com/demo/results/trainingN2F82R-2K2/\n",
    "def solution(A):\n",
    "    lst = [0]*(len(A)+1)\n",
    "    for i in A:\n",
    "        lst[i-1] = 1\n",
    "        \n",
    "    return lst.index(0)+1\n",
    "\n",
    "A = [2,3,1,5]\n",
    "solution(A)"
   ]
  },
  {
   "cell_type": "code",
   "execution_count": 53,
   "metadata": {},
   "outputs": [
    {
     "data": {
      "text/plain": [
       "4"
      ]
     },
     "execution_count": 53,
     "metadata": {},
     "output_type": "execute_result"
    }
   ],
   "source": [
    "# 참고\n",
    "def solution(A):\n",
    "    return sum(range(len(A)+2))-sum(A)\n",
    "\n",
    "A = [2,3,1,5]\n",
    "solution(A)"
   ]
  },
  {
   "cell_type": "markdown",
   "metadata": {},
   "source": [
    "-  TapeEquilibrium"
   ]
  },
  {
   "cell_type": "code",
   "execution_count": 78,
   "metadata": {
    "scrolled": true
   },
   "outputs": [
    {
     "name": "stdout",
     "output_type": "stream",
     "text": [
      "-3 3\n",
      "-2 2\n"
     ]
    },
    {
     "data": {
      "text/plain": [
       "4"
      ]
     },
     "execution_count": 78,
     "metadata": {},
     "output_type": "execute_result"
    }
   ],
   "source": [
    "# https://app.codility.com/demo/results/trainingS25DGX-UX4/\n",
    "# O(N * N)\n",
    "def solution(A):\n",
    "    min_difference = -1\n",
    "    for i in range(1,len(A)):\n",
    "        pivot = i\n",
    "        left = sum(A[:pivot])\n",
    "        right = sum(A[pivot:])\n",
    "        # 0 -> 2000?\n",
    "        difference = abs(right - left)\n",
    "        if min_difference == -1:\n",
    "            min_difference = difference\n",
    "        else:\n",
    "            min_difference = min(min_difference, difference)\n",
    "    return min_difference\n",
    "\n",
    "        \n",
    "# A = [3,1,2,4,3]\n",
    "A = [3,-1,-2]\n",
    "solution(A)"
   ]
  },
  {
   "cell_type": "code",
   "execution_count": 80,
   "metadata": {},
   "outputs": [
    {
     "name": "stdout",
     "output_type": "stream",
     "text": [
      "6\n",
      "4\n"
     ]
    },
    {
     "data": {
      "text/plain": [
       "4"
      ]
     },
     "execution_count": 80,
     "metadata": {},
     "output_type": "execute_result"
    }
   ],
   "source": [
    "# https://app.codility.com/demo/results/trainingWUTXGE-A3T/\n",
    "# O(N)\n",
    "def solution(A):\n",
    "    left = 0\n",
    "    right = sum(A)\n",
    "    min_difference = -1\n",
    "    for i in range(1,len(A)):  # right가 최종 1개는 있어야\n",
    "        left += A[i-1]\n",
    "        right -= A[i-1]\n",
    "        \n",
    "        difference = abs(left - right)\n",
    "        if min_difference == -1:\n",
    "            min_difference = difference\n",
    "        else:\n",
    "            min_difference = min(min_difference, difference)\n",
    "            \n",
    "    return min_difference\n",
    "A = [3,-1,-2]\n",
    "solution(A)"
   ]
  }
 ],
 "metadata": {
  "kernelspec": {
   "display_name": "Python 3",
   "language": "python",
   "name": "python3"
  },
  "language_info": {
   "codemirror_mode": {
    "name": "ipython",
    "version": 3
   },
   "file_extension": ".py",
   "mimetype": "text/x-python",
   "name": "python",
   "nbconvert_exporter": "python",
   "pygments_lexer": "ipython3",
   "version": "3.7.6"
  }
 },
 "nbformat": 4,
 "nbformat_minor": 4
}
