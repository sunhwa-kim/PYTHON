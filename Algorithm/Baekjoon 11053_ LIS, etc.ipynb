{
 "cells": [
  {
   "cell_type": "code",
   "execution_count": 1,
   "metadata": {},
   "outputs": [
    {
     "name": "stdout",
     "output_type": "stream",
     "text": [
      "6\n",
      "10 20 10 30 20 50\n",
      "4\n"
     ]
    }
   ],
   "source": [
    "# class  \n",
    "n = int(input())\n",
    "arr = list(map(int, input().split(' ')))\n",
    "dp = [1]*n\n",
    "\n",
    "for i in range(1,n):\n",
    "    for j in range(0,i):\n",
    "        if arr[j] < arr[i]:\n",
    "            dp[i] = max(dp[i], dp[j]+1)  # 주의 \n",
    "            \n",
    "print(max(dp))  "
   ]
  },
  {
   "cell_type": "code",
   "execution_count": 2,
   "metadata": {
    "scrolled": false
   },
   "outputs": [
    {
     "name": "stdout",
     "output_type": "stream",
     "text": [
      "8\n",
      "10 20 3 6 7 30 20 50\n",
      "5\n"
     ]
    }
   ],
   "source": [
    "# class  \n",
    "n = int(input())\n",
    "arr = list(map(int, input().split(' ')))\n",
    "dp = [1]*n\n",
    "\n",
    "for i in range(1,n):\n",
    "    for j in range(0,i):\n",
    "        if arr[j] < arr[i]:\n",
    "            dp[i] = max(dp[i], dp[j]+1)  \n",
    "            \n",
    "print(max(dp))  "
   ]
  },
  {
   "cell_type": "code",
   "execution_count": 3,
   "metadata": {},
   "outputs": [
    {
     "name": "stdout",
     "output_type": "stream",
     "text": [
      "8\n",
      "-1 3 4 5 2 2 2 2\n",
      "4\n"
     ]
    }
   ],
   "source": [
    "# class  \n",
    "n = int(input())\n",
    "arr = list(map(int, input().split(' ')))\n",
    "dp = [1]*n\n",
    "\n",
    "for i in range(1,n):\n",
    "    for j in range(0,i):\n",
    "        if arr[j] < arr[i]:\n",
    "            dp[i] = max(dp[i], dp[j]+1) \n",
    "            \n",
    "print(max(dp))  "
   ]
  },
  {
   "cell_type": "code",
   "execution_count": 4,
   "metadata": {},
   "outputs": [
    {
     "data": {
      "text/plain": [
       "[1, 2, 3, 4, 2, 2, 2, 2]"
      ]
     },
     "execution_count": 4,
     "metadata": {},
     "output_type": "execute_result"
    }
   ],
   "source": [
    "dp"
   ]
  },
  {
   "cell_type": "markdown",
   "metadata": {},
   "source": [
    "#### etc\n",
    "- in fact, I don't know well about dynamic programing but I want to try Longest Non-Decreasing Subsequence from Youtube\n",
    "- But Baekjoon's wrong answer -> because differnt from strictly increasing case's answer ( 10 20 3 3 3 3 3 30 20 50 )"
   ]
  },
  {
   "cell_type": "code",
   "execution_count": 7,
   "metadata": {
    "scrolled": true
   },
   "outputs": [
    {
     "name": "stdout",
     "output_type": "stream",
     "text": [
      "8\n",
      "-1 3 4 5 2 2 2 2\n",
      "5\n"
     ]
    }
   ],
   "source": [
    "n = int(input())\n",
    "data = list(map(int, input().split(' ')))\n",
    "\n",
    "result = dict()\n",
    "for i in range(n):\n",
    "    result[i] = 1\n",
    "\n",
    "for key in result:\n",
    "    for idx in range(key):\n",
    "        if key != idx:    \n",
    "            if data[key] > data[idx]:\n",
    "                if result[key] <= result[idx]:\n",
    "                    result[key] = result[idx]+1\n",
    "            elif data[key] == data[idx]:\n",
    "                # 같은 값, 뒤에 있는 index가 더 크게\n",
    "                if idx < key :\n",
    "                    result[key] = result[idx]+1\n",
    "                    \n",
    "print(max(result.values()))"
   ]
  },
  {
   "cell_type": "code",
   "execution_count": 10,
   "metadata": {
    "scrolled": true
   },
   "outputs": [
    {
     "data": {
      "text/plain": [
       "dict_values([1, 2, 3, 4, 2, 3, 4, 5])"
      ]
     },
     "execution_count": 10,
     "metadata": {},
     "output_type": "execute_result"
    }
   ],
   "source": [
    "result.values()"
   ]
  },
  {
   "cell_type": "code",
   "execution_count": 11,
   "metadata": {
    "scrolled": true
   },
   "outputs": [
    {
     "name": "stdout",
     "output_type": "stream",
     "text": [
      "8\n",
      "10 20 3 6 7 30 20 50\n",
      "5\n"
     ]
    }
   ],
   "source": [
    "n = int(input())\n",
    "data = list(map(int, input().split(' ')))\n",
    "\n",
    "result = dict()\n",
    "for i in range(n):\n",
    "    result[i] = 1\n",
    "\n",
    "for key in result:\n",
    "    for idx in range(key):\n",
    "        if key != idx:    \n",
    "            if data[key] > data[idx]:\n",
    "                if result[key] <= result[idx]:\n",
    "                    result[key] = result[idx]+1\n",
    "            elif data[key] == data[idx]:\n",
    "                if idx < key :\n",
    "                    result[key] = result[idx]+1\n",
    "                    \n",
    "print(max(result.values()))"
   ]
  },
  {
   "cell_type": "code",
   "execution_count": 12,
   "metadata": {
    "scrolled": true
   },
   "outputs": [
    {
     "name": "stdout",
     "output_type": "stream",
     "text": [
      "6\n",
      "10 20 10 30 20 50\n",
      "4\n"
     ]
    }
   ],
   "source": [
    "n = int(input())\n",
    "data = list(map(int, input().split(' ')))\n",
    "\n",
    "result = dict()\n",
    "for i in range(n):\n",
    "    result[i] = 1\n",
    "\n",
    "for key in result:\n",
    "    for idx in range(key):\n",
    "        if key != idx:    \n",
    "            if data[key] > data[idx]:\n",
    "                if result[key] <= result[idx]:\n",
    "                    result[key] = result[idx]+1\n",
    "            elif data[key] == data[idx]:\n",
    "                if idx < key :\n",
    "                    result[key] = result[idx]+1\n",
    "                    \n",
    "print(max(result.values()))"
   ]
  },
  {
   "cell_type": "code",
   "execution_count": 14,
   "metadata": {},
   "outputs": [
    {
     "name": "stdout",
     "output_type": "stream",
     "text": [
      "10\n",
      "10 20 3 3 3 3 3 30 20 50\n",
      "7\n"
     ]
    }
   ],
   "source": [
    "n = int(input())\n",
    "data = list(map(int, input().split(' ')))\n",
    "\n",
    "result = dict()\n",
    "for i in range(n):\n",
    "    result[i] = 1\n",
    "\n",
    "for key in result:\n",
    "    for idx in range(key):\n",
    "        if key != idx:    \n",
    "            if data[key] > data[idx]:\n",
    "                if result[key] <= result[idx]:\n",
    "                    result[key] = result[idx]+1\n",
    "            elif data[key] == data[idx]:\n",
    "                if idx < key :\n",
    "                    result[key] = result[idx]+1\n",
    "                    \n",
    "print(max(result.values()))"
   ]
  }
 ],
 "metadata": {
  "kernelspec": {
   "display_name": "Python 3",
   "language": "python",
   "name": "python3"
  },
  "language_info": {
   "codemirror_mode": {
    "name": "ipython",
    "version": 3
   },
   "file_extension": ".py",
   "mimetype": "text/x-python",
   "name": "python",
   "nbconvert_exporter": "python",
   "pygments_lexer": "ipython3",
   "version": "3.7.6"
  }
 },
 "nbformat": 4,
 "nbformat_minor": 4
}
