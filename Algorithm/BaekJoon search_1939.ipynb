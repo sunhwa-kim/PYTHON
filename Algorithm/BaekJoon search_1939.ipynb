{
 "cells": [
  {
   "cell_type": "markdown",
   "metadata": {},
   "source": [
    "### 1939 중량 제한"
   ]
  },
  {
   "cell_type": "code",
   "execution_count": 1,
   "metadata": {
    "scrolled": true
   },
   "outputs": [
    {
     "name": "stdout",
     "output_type": "stream",
     "text": [
      "3 3\n",
      "1 2 2\n",
      "3 1 3\n",
      "2 3 2\n",
      "1 3\n",
      "3\n"
     ]
    }
   ],
   "source": [
    "# class  : memory 140676 KB, 시간 548 ms \n",
    "\n",
    "from collections import deque\n",
    "\n",
    "def bfs(ex_w):\n",
    "\n",
    "    queue = deque([start_node])\n",
    "#     visited = [False] *(n+1)\n",
    "    visited = [False for _ in range(n+1)] \n",
    "    visited[start_node] = True\n",
    "    \n",
    "    while queue:\n",
    "        x = queue.popleft()\n",
    "        for y, weight in adj[x]:\n",
    "            if not visited[y] and weight>=ex_w:\n",
    "                visited[y]=True\n",
    "                queue.append(y)\n",
    "    return visited[end_node]\n",
    "\n",
    "\n",
    "n,m = map(int,input().split(' '))\n",
    "adj = [[] for _ in range(n+1)]\n",
    "start = 1000000000\n",
    "end = 1\n",
    "for _ in range(m):\n",
    "    x,y,weight = map(int,input().split(' '))\n",
    "    adj[x].append((y,weight))\n",
    "    adj[y].append((x,weight))\n",
    "    \n",
    "    start = min(start,weight)\n",
    "    end = max(end,weight)\n",
    "    \n",
    "start_node, end_node = map(int,input().split(' '))\n",
    "\n",
    "result = start\n",
    "while start <=end:\n",
    "    mid = (start+end)//2    # mid = 현재중량\n",
    "    if bfs(mid):\n",
    "        result = mid\n",
    "        start = mid+1   # 이동가능시 중량 증가\n",
    "    else:\n",
    "        end = mid-1    # 이동 불가시 중량 감소\n",
    "        \n",
    "print(result)"
   ]
  },
  {
   "cell_type": "code",
   "execution_count": 2,
   "metadata": {},
   "outputs": [
    {
     "name": "stdout",
     "output_type": "stream",
     "text": [
      "3 3\n",
      "1 2 2\n",
      "3 1 3\n",
      "2 3 2\n",
      "1 3\n",
      "3\n"
     ]
    }
   ],
   "source": [
    "# class 그냥 list로 했을때 : memory 140060 KB, time 536 ms\n",
    "n,m = map(int, input().split(' '))\n",
    "adj = [[] for _ in range(n+1)]  \n",
    "\n",
    "def bfs(c):\n",
    "    queue = [start_node]\n",
    "    visited = [ False for _ in range(n+1)]\n",
    "    visited[start_node] = True\n",
    "    while queue:\n",
    "        x = queue.pop(0)\n",
    "        for y,weight in adj[x]:\n",
    "            if not visited[y] and weight >=c:  \n",
    "                visited[y] = True\n",
    "                queue.append(y)\n",
    "    return visited[end_node]\n",
    "\n",
    "start = 1000000000\n",
    "end =1\n",
    "\n",
    "for _ in range(m):\n",
    "    x,y,weight = map(int,input().split(' '))\n",
    "    adj[x].append((y,weight))   \n",
    "    adj[y].append((x,weight))\n",
    "    start = min(start, weight)\n",
    "    end = max(end,weight)\n",
    "    \n",
    "start_node, end_node = map(int, input().split(' '))\n",
    "\n",
    "#  binary search\n",
    "result = start\n",
    "while start <= end:\n",
    "    mid = (start + end)//2\n",
    "    if bfs(mid):\n",
    "        result = mid\n",
    "        start = mid+1\n",
    "    else:\n",
    "        end = mid-1\n",
    "        \n",
    "print(result)"
   ]
  },
  {
   "cell_type": "markdown",
   "metadata": {},
   "source": [
    "##### wrong (my) : 시간초과\n",
    "- 다익스트라 알고리즘\n",
    "- 무게 여러개 둘 수 있는 경우 10억의 범위라서 이진탐색과 같은 방식 필요 한 듯.."
   ]
  },
  {
   "cell_type": "code",
   "execution_count": 3,
   "metadata": {},
   "outputs": [
    {
     "name": "stdout",
     "output_type": "stream",
     "text": [
      "3 3\n",
      "1 2 2\n",
      "3 1 3\n",
      "2 3 2\n",
      "1 3\n",
      "3\n"
     ]
    }
   ],
   "source": [
    "# n: 섬의개수, m:입력 row수\n",
    "n,m = map(int,input().split(' '))\n",
    "sub_data= []\n",
    "set_data = set()\n",
    "for _ in range(m):\n",
    "    a,b,edge = map(int, input().split(' '))\n",
    "    \n",
    "    sub_data.append((a,b,edge))\n",
    "    sub_data.append((b,a,edge))\n",
    "    set_data.add(a)\n",
    "    set_data.add(b)\n",
    "\n",
    "start,end = map(int,input().split(' '))\n",
    "\n",
    "sub_data.sort()\n",
    "\n",
    "data = dict()\n",
    "d={}\n",
    "tmp_key=0\n",
    "for key in set_data:\n",
    "    for a,b,edge in sub_data:\n",
    "        if key==a:\n",
    "            tmp_key=a\n",
    "            d[b]=edge\n",
    "    data[tmp_key]=d\n",
    "    d={}   \n",
    "\n",
    "weights = {vertex:[-1,start] for vertex in data}  \n",
    "\n",
    "# edge 큰 순서대로\n",
    "weights[start] = [0,start]\n",
    "\n",
    "queue = []\n",
    "queue.append([weights[start][0],start])\n",
    "\n",
    "while queue:\n",
    "    this_weight, this_node = queue.pop()\n",
    "    \n",
    "    if weights[this_node][0] > this_weight:\n",
    "        continue\n",
    "            \n",
    "    for next_node, next_weight in data[this_node].items():\n",
    "        if this_weight > next_weight :\n",
    "            check_weight = this_weight\n",
    "        else:\n",
    "            check_weight = next_weight\n",
    "            \n",
    "        if check_weight > weights[next_node][0]:\n",
    "            weights[next_node] = [check_weight, this_node]\n",
    "            queue.append([check_weight, next_node])\n",
    "            queue.sort()\n",
    "            \n",
    "print(weights[end][0])          "
   ]
  }
 ],
 "metadata": {
  "kernelspec": {
   "display_name": "Python 3",
   "language": "python",
   "name": "python3"
  },
  "language_info": {
   "codemirror_mode": {
    "name": "ipython",
    "version": 3
   },
   "file_extension": ".py",
   "mimetype": "text/x-python",
   "name": "python",
   "nbconvert_exporter": "python",
   "pygments_lexer": "ipython3",
   "version": "3.7.6"
  }
 },
 "nbformat": 4,
 "nbformat_minor": 4
}
