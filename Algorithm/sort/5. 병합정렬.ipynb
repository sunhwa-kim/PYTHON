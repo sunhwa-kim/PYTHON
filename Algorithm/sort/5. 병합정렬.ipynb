{
 "cells": [
  {
   "cell_type": "markdown",
   "metadata": {},
   "source": [
    "## MERGE SORT\n",
    "    - 병합정렬 = 합병정렬\n",
    "    - 분할정복 알고리즘 중 하나\n",
    "\n",
    "1. def : 리스트를 절반으로 하나가 남을 때까지 자르고, 재귀적 정렬 후 각각 포인터가 있었던 잘라진 부분들의 리스트들 크기 비교하면서 정렬된 리스트로 병합\n",
    "\n",
    "    * 재귀함수 이용\n",
    "    * 병합시 작은걸 앞쪽에 두는 규칙으로 두고서 병합, 개수가 늘어날 수록 각각 비교 하여 병합\n",
    "    \n",
    "2. 분석 : <img src=\"https://www.fun-coding.org/00_Images/mergesortcomplexity.png\" width=\"300\" />\n",
    "    *위 그래프 depth 마다 리스트 길이 n/2 감소 & 노드 개수 n개가 2배씩 증가 $2^n$ \n",
    "    * 각 단계 <font size=4em>$2^i * \\frac { n }{ 2^i } = O(n)$</font>\n",
    "    * 단계는 항상 $log_2 n$ 개 만큼 만들어짐, 시간 복잡도는 결국 O(log n), 2는 역시 상수이므로 삭제\n",
    "    * 따라서, 단계별 시간 복잡도 O(n) * O(log n) = O(n log n)\n",
    "        * O(1) < O($log n$) < O(n) < O(n$log n$) < O($n^2$) < O($2^n$) < O(n!)\n",
    "             ( log n 의 베이스는 2 - $log_2 n$  )\n",
    "        \n",
    " \n",
    "3. sunhwa : 쪼개진 후 병합과정에서 비교로직 이해하는 데 실수(2:2부터 작아서 빠져나간 idx를 다음 idx로 옮겨주는 것!)\n",
    "    * split 될 때 범위 리스트 앞 부분[:mid_idx] , 리스트 뒷부분[mid_idx:]  : 위치 헷갈리지 말기\n",
    "    * 길이 len() 쓸 때, 자꾸 lend() 라고 오타 에러 주의\n",
    "    * recusive call 하는 위치 다른 방법과 다르니 기억!\n",
    "    * 특히, 그 idx 처리에 따라 아래 3가지 방식이 나온!"
   ]
  },
  {
   "cell_type": "code",
   "execution_count": 6,
   "metadata": {},
   "outputs": [],
   "source": [
    "import random"
   ]
  },
  {
   "cell_type": "code",
   "execution_count": 7,
   "metadata": {},
   "outputs": [
    {
     "data": {
      "text/plain": [
       "[17, 71, 99, 10, 66, 45, 55, 60, 41, 15, 0, 77, 47, 80, 88]"
      ]
     },
     "execution_count": 7,
     "metadata": {},
     "output_type": "execute_result"
    }
   ],
   "source": [
    "data_test = random.sample(range(100),15)\n",
    "data_test"
   ]
  },
  {
   "cell_type": "code",
   "execution_count": 4,
   "metadata": {},
   "outputs": [],
   "source": [
    "aa=3\n",
    "bb=2\n",
    "if aa>1 and bb>1:\n",
    "    aa=aa-2\n",
    "    bb=bb-2\n",
    "if aa>0:\n",
    "    aa+=3\n",
    "else:\n",
    "    bb+=100\n",
    "    \n",
    "\n",
    "#  이어진 주제라면 elif로 하는게 더 좋을 듯\n",
    "if aa>1 and bb>1:\n",
    "    aa=aa-2\n",
    "    bb=bb-2\n",
    "elif aa>0:\n",
    "    aa+=3\n",
    "elif:\n",
    "    bb+=100"
   ]
  },
  {
   "cell_type": "code",
   "execution_count": 5,
   "metadata": {},
   "outputs": [
    {
     "data": {
      "text/plain": [
       "4"
      ]
     },
     "execution_count": 5,
     "metadata": {},
     "output_type": "execute_result"
    }
   ],
   "source": [
    "aa"
   ]
  },
  {
   "cell_type": "code",
   "execution_count": 32,
   "metadata": {},
   "outputs": [],
   "source": [
    "# 백준 시간초과\n",
    "# idx변해야지\n",
    "def merging(fList, bList):\n",
    "    mergeList = list()\n",
    "    while len(fList)>0 or len(bList)>0:\n",
    "        if len(fList)>0 and len(bList)>0:\n",
    "            if fList[0] < bList[0]:\n",
    "                mergeList.append(fList[0])\n",
    "                fList = fList[1:]\n",
    "            else:\n",
    "                mergeList.append(bList[0])\n",
    "                bList = bList[1:]\n",
    "        elif len(fList)>0:\n",
    "            mergeList.append(fList[0])\n",
    "            fList = fList[1:]\n",
    "        elif len(bList)>0:\n",
    "            mergeList.append(bList[0])\n",
    "            bList = bList[1:]\n",
    "        \n",
    "    return mergeList\n",
    "    \n",
    "def split_merge(prelist):\n",
    "    \n",
    "    if len(prelist)<=1:\n",
    "        return prelist\n",
    "    mid = len(prelist)//2\n",
    "    frontList = split_merge(prelist[mid:])\n",
    "    backList = split_merge(prelist[:mid])\n",
    "    \n",
    "    return merging(frontList, backList)"
   ]
  },
  {
   "cell_type": "code",
   "execution_count": 33,
   "metadata": {},
   "outputs": [
    {
     "data": {
      "text/plain": [
       "[0, 10, 15, 17, 41, 45, 47, 55, 60, 66, 71, 77, 80, 88, 99]"
      ]
     },
     "execution_count": 33,
     "metadata": {},
     "output_type": "execute_result"
    }
   ],
   "source": [
    "split_merge(data_test)"
   ]
  },
  {
   "cell_type": "code",
   "execution_count": 49,
   "metadata": {},
   "outputs": [],
   "source": [
    "#  백준 런타임 에러\n",
    "def merge_sort2(preList):\n",
    "    post_list = []\n",
    "    \n",
    "    if len(preList)==1:\n",
    "        return preList\n",
    "    \n",
    "    midIdx = len(preList)//2\n",
    "    frontList = merge_sort(preList[:midIdx])\n",
    "    backList = merge_sort(preList[midIdx:])\n",
    "    \n",
    "    \n",
    "    f_idx, b_idx =0,0\n",
    "    while f_idx < len(frontList) and b_idx < len(backList):\n",
    "        if frontList[f_idx]<backList[b_idx]:\n",
    "            post_list.append(frontList[f_idx])\n",
    "            f_idx+=1\n",
    "        else:\n",
    "            post_list.append(backList[b_idx])\n",
    "            b_idx+=1\n",
    "    post_list +=frontList[f_idx:]\n",
    "    post_list +=backList[b_idx:]\n",
    "    \n",
    "    return post_list"
   ]
  },
  {
   "cell_type": "code",
   "execution_count": 50,
   "metadata": {},
   "outputs": [
    {
     "data": {
      "text/plain": [
       "[0, 10, 15, 17, 41, 45, 47, 55, 60, 66, 71, 77, 80, 88, 99]"
      ]
     },
     "execution_count": 50,
     "metadata": {},
     "output_type": "execute_result"
    }
   ],
   "source": [
    "merge_sort2(data_test)"
   ]
  },
  {
   "cell_type": "code",
   "execution_count": 62,
   "metadata": {},
   "outputs": [],
   "source": [
    "# class\n",
    "\n",
    "def merge0(left,right):\n",
    "    sorted_list = []\n",
    "    left_idx, right_idx = 0,0\n",
    "    \n",
    "    while len(left)>left_idx and len(right)>right_idx:\n",
    "        if left[left_idx] < right[right_idx]:\n",
    "            sorted_list.append(left[left_idx])\n",
    "            left_idx +=1\n",
    "        else:\n",
    "            sorted_list.append(right[right_idx])\n",
    "            right_idx +=1\n",
    "    while len(left)>left_idx:\n",
    "        sorted_list.append(left[left_idx])\n",
    "        left_idx+=1\n",
    "        \n",
    "    while len(right)>right_idx:\n",
    "        sorted_list.append(right[right_idx])\n",
    "        right_idx +=1\n",
    "    return sorted_list\n",
    "\n",
    "def split_merge0(data):\n",
    "    \n",
    "    if len(data)<=1:\n",
    "        return data\n",
    "    \n",
    "    left,right = list(),list()\n",
    "    mid_idx = len(data)//2\n",
    "    left = split_merge(data[:mid_idx])\n",
    "    right = split_merge(data[mid_idx:])\n",
    "    \n",
    "    return merge0(left,right)"
   ]
  },
  {
   "cell_type": "code",
   "execution_count": 63,
   "metadata": {},
   "outputs": [
    {
     "data": {
      "text/plain": [
       "[0, 10, 15, 17, 41, 45, 47, 55, 60, 66, 71, 77, 80, 88, 99]"
      ]
     },
     "execution_count": 63,
     "metadata": {},
     "output_type": "execute_result"
    }
   ],
   "source": [
    "split_merge0(data_test)"
   ]
  },
  {
   "cell_type": "code",
   "execution_count": null,
   "metadata": {},
   "outputs": [],
   "source": []
  }
 ],
 "metadata": {
  "kernelspec": {
   "display_name": "Python 3",
   "language": "python",
   "name": "python3"
  },
  "language_info": {
   "codemirror_mode": {
    "name": "ipython",
    "version": 3
   },
   "file_extension": ".py",
   "mimetype": "text/x-python",
   "name": "python",
   "nbconvert_exporter": "python",
   "pygments_lexer": "ipython3",
   "version": "3.7.6"
  }
 },
 "nbformat": 4,
 "nbformat_minor": 4
}
