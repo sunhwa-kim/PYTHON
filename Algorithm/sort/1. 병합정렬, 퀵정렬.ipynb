{
 "cells": [
  {
   "cell_type": "markdown",
   "metadata": {},
   "source": [
    "## 1. MERGE SORT\n",
    "    - 병합정렬 = 합병정렬\n",
    "    - 분할정복 알고리즘 중 하나\n",
    "\n",
    "1. def : 리스트를 절반으로 하나가 남을 때까지 자르고, 재귀적 정렬 후 각각 포인터가 있었던 잘라진 부분들의 리스트들 크기 비교하면서 정렬된 리스트로 병합\n",
    "\n",
    "    * 재귀함수 이용\n",
    "    * 병합시 작은걸 앞쪽에 두는 규칙으로 두고서 병합, 개수가 늘어날 수록 각각 비교 하여 병합\n",
    "    \n",
    "2. 분석 : <img src=\"https://www.fun-coding.org/00_Images/mergesortcomplexity.png\" width=\"300\" />\n",
    "    *위 그래프 depth 마다 리스트 길이 n/2 감소 & 노드 개수 n개가 2배씩 증가 $2^n$ \n",
    "    * 각 단계 <font size=4em>$2^i * \\frac { n }{ 2^i } = O(n)$</font>\n",
    "    * 단계는 항상 $log_2 n$ 개 만큼 만들어짐, 시간 복잡도는 결국 O(log n), 2는 역시 상수이므로 삭제\n",
    "    * 따라서, 단계별 시간 복잡도 O(n) * O(log n) = O(n log n)\n",
    "        * O(1) < O($log n$) < O(n) < O(n$log n$) < O($n^2$) < O($2^n$) < O(n!)\n",
    "             ( log n 의 베이스는 2 - $log_2 n$  )\n",
    "        \n",
    " \n",
    "3. sunhwa : 쪼개진 후 병합과정에서 비교로직 이해하는 데 실수(2:2부터 작아서 빠져나간 idx를 다음 idx로 옮겨주는 것!)\n",
    "    * split 될 때 범위 리스트 앞 부분[:mid_idx] , 리스트 뒷부분[mid_idx:]  : 위치 헷갈리지 말기\n",
    "    * 길이 len() 쓸 때, 자꾸 lend() 라고 오타 에러 주의\n",
    "    * recusive call 하는 위치 다른 방법과 다르니 기억!\n",
    "    * 특히, 그 idx 처리에 따라 아래 3가지 방식이 나온!"
   ]
  },
  {
   "cell_type": "code",
   "execution_count": 1,
   "metadata": {},
   "outputs": [],
   "source": [
    "import random"
   ]
  },
  {
   "cell_type": "code",
   "execution_count": 2,
   "metadata": {},
   "outputs": [
    {
     "data": {
      "text/plain": [
       "[40, 90, 18, 16, 28, 12, 24, 15, 56, 30, 5, 31, 68, 82, 76]"
      ]
     },
     "execution_count": 2,
     "metadata": {},
     "output_type": "execute_result"
    }
   ],
   "source": [
    "data_test = random.sample(range(100),15)\n",
    "data_test"
   ]
  },
  {
   "cell_type": "code",
   "execution_count": 3,
   "metadata": {},
   "outputs": [],
   "source": [
    "# merge sort\n",
    "def merge_split(data):\n",
    "    if len(data) == 1:\n",
    "        return data\n",
    "    \n",
    "    mid = len(data)//2\n",
    "    left = merge_split(data[:mid])\n",
    "    right = merge_split(data[mid:])\n",
    "    return merge(left, right)\n",
    "\n",
    "def merge(left, right):\n",
    "    merged = list()\n",
    "    left_idx, right_idx = 0, 0\n",
    "    \n",
    "    while len(left)>left_idx and len(right) > right_idx:\n",
    "        if left[left_idx] < right[right_idx]:\n",
    "            merged.append(left[left_idx])\n",
    "            left_idx += 1\n",
    "        else:\n",
    "            merged.append(right[right_idx])\n",
    "            right_idx += 1\n",
    "            \n",
    "    # 위에서 한 쪽이 먼저 채워지고 다른 쪽은 남은 경우        \n",
    "    while len(left) > left_idx:\n",
    "        merged.append(left[left_idx])\n",
    "        left_idx+=1\n",
    "        \n",
    "    while len(right) > right_idx:\n",
    "        merged.append(right[right_idx])\n",
    "        right_idx += 1\n",
    "        \n",
    "    return merged"
   ]
  },
  {
   "cell_type": "code",
   "execution_count": 4,
   "metadata": {
    "scrolled": false
   },
   "outputs": [
    {
     "data": {
      "text/plain": [
       "[5, 12, 15, 16, 18, 24, 28, 30, 31, 40, 56, 68, 76, 82, 90]"
      ]
     },
     "execution_count": 4,
     "metadata": {},
     "output_type": "execute_result"
    }
   ],
   "source": [
    "merge_split(data_test)"
   ]
  },
  {
   "cell_type": "markdown",
   "metadata": {},
   "source": [
    "## 2. Quick SORT\n",
    "- 병합정렬과 유사, 시간복잡도는 O(n log n)\n",
    "- 맨 처음 pivot이 가장 크거나, 가장 작으면 모든 데이터를 비교 : O($n^2$)"
   ]
  },
  {
   "cell_type": "code",
   "execution_count": 6,
   "metadata": {},
   "outputs": [
    {
     "data": {
      "text/plain": [
       "[5, 12, 15, 16, 18, 24, 28, 30, 31, 40, 56, 68, 76, 82, 90]"
      ]
     },
     "execution_count": 6,
     "metadata": {},
     "output_type": "execute_result"
    }
   ],
   "source": [
    "# pivot -> left, right recursive call\n",
    "\n",
    "def quick_sort(data):\n",
    "    if len(data) <= 1:\n",
    "        return data\n",
    "    \n",
    "    pivot = data[0]\n",
    "    left = [i for i in data[1:] if i<pivot]\n",
    "    right = [i for i in data[1:] if i>=pivot]\n",
    "    return quick_sort(left) + [pivot] + quick_sort(right)\n",
    "\n",
    "quick_sort(data_test)\n"
   ]
  }
 ],
 "metadata": {
  "kernelspec": {
   "display_name": "Python 3",
   "language": "python",
   "name": "python3"
  },
  "language_info": {
   "codemirror_mode": {
    "name": "ipython",
    "version": 3
   },
   "file_extension": ".py",
   "mimetype": "text/x-python",
   "name": "python",
   "nbconvert_exporter": "python",
   "pygments_lexer": "ipython3",
   "version": "3.7.6"
  }
 },
 "nbformat": 4,
 "nbformat_minor": 4
}
