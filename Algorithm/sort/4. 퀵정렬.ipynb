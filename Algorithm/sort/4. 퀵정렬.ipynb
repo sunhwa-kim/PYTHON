{
 "cells": [
  {
   "cell_type": "code",
   "execution_count": 1,
   "metadata": {},
   "outputs": [],
   "source": [
    "import random\n",
    "import timeit"
   ]
  },
  {
   "cell_type": "markdown",
   "metadata": {},
   "source": [
    "## QUICK SORT\n",
    "\n",
    "1. def : 정렬 알고리즘의 꽃, pivot(기준점) 정해서 작은 데이터는 left, 큰 데이터는 right로 모아 재귀용범으로 작업 반복 하여 모두 합친 결과 리턴\n",
    "\n"
   ]
  },
  {
   "cell_type": "code",
   "execution_count": 2,
   "metadata": {},
   "outputs": [],
   "source": [
    "def quick_sort(data):\n",
    "    # 종료조건\n",
    "    # parameter로 pivot의 idx 받게 하면 재귀함수 호출시 기준이 변해서...No\n",
    "    standard = 0\n",
    "    if len(data)<=standard+1: # pivot이 중간에 있다면, 그만큼의 데이터를 가져야 함수 돌아가는데, 그러면 정렬 bad+중복값\n",
    "        return data\n",
    "    \n",
    "    pivot = data[standard]\n",
    "    left = [itm for itm in data[standard+1:] if pivot > itm]\n",
    "    right = [itm for itm in data[standard+1:] if pivot <= itm]  # 이 부등호가 있는데 중요 pivot과의 중복값도 들어가게 해주는\n",
    "    \n",
    "    return quick_sort(left)+[pivot]+quick_sort(right)"
   ]
  },
  {
   "cell_type": "code",
   "execution_count": 113,
   "metadata": {},
   "outputs": [],
   "source": [
    "def for_quicksort(data):\n",
    "    if len(data)<=1:\n",
    "        return data\n",
    "    left, right = list(),list()\n",
    "    pivot = data[0]\n",
    "    \n",
    "    for i in range(1,len(data)):\n",
    "        if data[i]<pivot:\n",
    "            left.append(data[i])\n",
    "        else:\n",
    "            right.append(data[i])\n",
    "    return for_quicksort(left)+[pivot]+for_quicksort(right)"
   ]
  },
  {
   "cell_type": "code",
   "execution_count": 5,
   "metadata": {},
   "outputs": [],
   "source": [
    "def quick_sort2(data):\n",
    "    \n",
    "    left,right = [],[]\n",
    "    standard = 2\n",
    "    if len(data)<=1:\n",
    "        return data\n",
    "    if len(data)<=standard:  # 각각 하나까지 남겨야 정확도 높아져서 넣어놨는데 그러면 기준점이 중간일 필요가 없다고 생각 들기도...\n",
    "        standard -= 1\n",
    "\n",
    "    pivot = data[standard]\n",
    "    del data[standard]\n",
    "\n",
    "    left= [item for item in data if item<pivot]\n",
    "    right = [item for item in data if item >=pivot]\n",
    "\n",
    "    return quick_sort2(left)+[pivot]+quick_sort2(right)\n",
    "    "
   ]
  },
  {
   "cell_type": "code",
   "execution_count": 114,
   "metadata": {
    "scrolled": true
   },
   "outputs": [
    {
     "data": {
      "text/plain": [
       "[131,\n",
       " 80,\n",
       " 169,\n",
       " 82,\n",
       " 43,\n",
       " 84,\n",
       " 17,\n",
       " 199,\n",
       " 116,\n",
       " 10,\n",
       " 92,\n",
       " 186,\n",
       " 135,\n",
       " 170,\n",
       " 150,\n",
       " 24,\n",
       " 192,\n",
       " 198,\n",
       " 158,\n",
       " 184,\n",
       " 2,\n",
       " 126,\n",
       " 124,\n",
       " 87,\n",
       " 39,\n",
       " 159,\n",
       " 15,\n",
       " 185,\n",
       " 193,\n",
       " 79]"
      ]
     },
     "execution_count": 114,
     "metadata": {},
     "output_type": "execute_result"
    }
   ],
   "source": [
    "data_test = random.sample(range(200),30)\n",
    "data_test"
   ]
  },
  {
   "cell_type": "code",
   "execution_count": 115,
   "metadata": {
    "scrolled": true
   },
   "outputs": [
    {
     "data": {
      "text/plain": [
       "[2,\n",
       " 10,\n",
       " 15,\n",
       " 17,\n",
       " 24,\n",
       " 39,\n",
       " 43,\n",
       " 79,\n",
       " 80,\n",
       " 82,\n",
       " 84,\n",
       " 87,\n",
       " 92,\n",
       " 116,\n",
       " 124,\n",
       " 126,\n",
       " 131,\n",
       " 135,\n",
       " 150,\n",
       " 158,\n",
       " 159,\n",
       " 169,\n",
       " 170,\n",
       " 184,\n",
       " 185,\n",
       " 186,\n",
       " 192,\n",
       " 193,\n",
       " 198,\n",
       " 199]"
      ]
     },
     "execution_count": 115,
     "metadata": {},
     "output_type": "execute_result"
    }
   ],
   "source": [
    "for_quicksort(data_test)"
   ]
  },
  {
   "cell_type": "code",
   "execution_count": 103,
   "metadata": {},
   "outputs": [
    {
     "data": {
      "text/plain": [
       "[168,\n",
       " 150,\n",
       " 42,\n",
       " 48,\n",
       " 71,\n",
       " 138,\n",
       " 8,\n",
       " 13,\n",
       " 163,\n",
       " 145,\n",
       " 32,\n",
       " 115,\n",
       " 112,\n",
       " 74,\n",
       " 119,\n",
       " 141,\n",
       " 169,\n",
       " 50,\n",
       " 5,\n",
       " 33,\n",
       " 2,\n",
       " 131,\n",
       " 92,\n",
       " 162,\n",
       " 68,\n",
       " 43,\n",
       " 16,\n",
       " 196,\n",
       " 24,\n",
       " 188]"
      ]
     },
     "execution_count": 103,
     "metadata": {},
     "output_type": "execute_result"
    }
   ],
   "source": [
    "data_test = random.sample(range(200),30)\n",
    "data_test"
   ]
  },
  {
   "cell_type": "code",
   "execution_count": 107,
   "metadata": {},
   "outputs": [
    {
     "name": "stdout",
     "output_type": "stream",
     "text": [
      "Tkme: 8.77000000514272e-05\n"
     ]
    }
   ],
   "source": [
    "start = timeit.default_timer()\n",
    "\n",
    "# Your code start\n",
    "bb11 = quick_sort(data_test)\n",
    "#  Your code end\n",
    "\n",
    "stop = timeit.default_timer()\n",
    "print('Tkme:', stop - start)"
   ]
  },
  {
   "cell_type": "code",
   "execution_count": 108,
   "metadata": {},
   "outputs": [
    {
     "name": "stdout",
     "output_type": "stream",
     "text": [
      "Tkme: 0.00011089999998148414\n"
     ]
    }
   ],
   "source": [
    "\n",
    "start = timeit.default_timer()\n",
    "\n",
    "# Your code start\n",
    "aa11 = quick_sort2(data_test)\n",
    "\n",
    "#  Your code end\n",
    "\n",
    "stop = timeit.default_timer()\n",
    "print('Tkme:', stop - start)"
   ]
  }
 ],
 "metadata": {
  "kernelspec": {
   "display_name": "Python 3",
   "language": "python",
   "name": "python3"
  },
  "language_info": {
   "codemirror_mode": {
    "name": "ipython",
    "version": 3
   },
   "file_extension": ".py",
   "mimetype": "text/x-python",
   "name": "python",
   "nbconvert_exporter": "python",
   "pygments_lexer": "ipython3",
   "version": "3.7.6"
  }
 },
 "nbformat": 4,
 "nbformat_minor": 4
}
