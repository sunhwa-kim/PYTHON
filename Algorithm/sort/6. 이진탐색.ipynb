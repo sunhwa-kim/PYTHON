{
 "cells": [
  {
   "cell_type": "markdown",
   "metadata": {},
   "source": [
    "## BINARY SEARCH\n",
    "- 정렬 가정하에 탐색, merge srot와 quick sort에 적용해서 알고리즘 짜보자.\n",
    "\n",
    "\n",
    "3. sunhwa\n",
    "    - 종료조건 습관적으로 하지 말기! 여기서는 데이터가 다른 경우를 그냥 넘겼음...+탐색!\n",
    "    - 정렬이 전제하라는 것을 잘못 생각했음,,, for문 순서대로만 돌린다고 생각\n",
    "        "
   ]
  },
  {
   "cell_type": "code",
   "execution_count": 1,
   "metadata": {},
   "outputs": [
    {
     "data": {
      "text/plain": [
       "[32, 28, 39, 59, 57, 86, 51, 26, 85, 79, 19]"
      ]
     },
     "execution_count": 1,
     "metadata": {},
     "output_type": "execute_result"
    }
   ],
   "source": [
    "import random \n",
    "data_test = random.sample(range(100),11)\n",
    "data_test"
   ]
  },
  {
   "cell_type": "code",
   "execution_count": 30,
   "metadata": {},
   "outputs": [],
   "source": [
    "#  정렬 전제하에\n",
    "#data_test.sort()\n",
    "\n",
    "def binary_search(data, searching):\n",
    "    \n",
    "    if len(data)==1 and data[0]==searching:\n",
    "        return True\n",
    "    elif len(data)==1:\n",
    "        return False\n",
    "    elif data[0]!= searching:\n",
    "        return False\n",
    "    \n",
    "    mid_idx = len(data)//2\n",
    "    mid_data = data[mid_idx]\n",
    "    \n",
    "    if mid_data > searching:\n",
    "        return binary_search(data[:mid_idx],searching)\n",
    "    else:\n",
    "        return binary_search(data[mid_idx:],searching)"
   ]
  },
  {
   "cell_type": "code",
   "execution_count": 32,
   "metadata": {},
   "outputs": [
    {
     "data": {
      "text/plain": [
       "False"
      ]
     },
     "execution_count": 32,
     "metadata": {},
     "output_type": "execute_result"
    }
   ],
   "source": [
    "data_test.sort()\n",
    "binary_search(data_test,3)"
   ]
  },
  {
   "cell_type": "markdown",
   "metadata": {},
   "source": [
    "#### quick sort + binary search"
   ]
  },
  {
   "cell_type": "code",
   "execution_count": 46,
   "metadata": {},
   "outputs": [],
   "source": [
    "# quick sort 복습\n",
    "#  정렬 안되어 있는 상태\n",
    "def quick_sort(data):\n",
    "    if len(data)<=1:\n",
    "        return data\n",
    "    \n",
    "    pivot = data[0]\n",
    "    left,right=[],[]\n",
    "    \n",
    "    left = [item for item in data[1:] if item < data[0]]\n",
    "    right = [item for item in data[1:] if item >= data[0]]\n",
    "    \n",
    "    return quick_sort(left)+[pivot]+quick_sort(right)\n",
    "    \n",
    "            "
   ]
  },
  {
   "cell_type": "code",
   "execution_count": 47,
   "metadata": {},
   "outputs": [
    {
     "data": {
      "text/plain": [
       "[24, 48, 56, 60, 72, 74, 78, 80, 83, 96, 97]"
      ]
     },
     "execution_count": 47,
     "metadata": {},
     "output_type": "execute_result"
    }
   ],
   "source": [
    "quick_sort(data_test)"
   ]
  },
  {
   "cell_type": "code",
   "execution_count": 49,
   "metadata": {},
   "outputs": [],
   "source": [
    "def quick_sort2(data, search=None):\n",
    "    if len(data)==1:\n",
    "        return data\n",
    "    \n",
    "    pivot = data[0]\n",
    "    left,right = [],[]\n",
    "    \n",
    "    left = [item for item in data[1:] if item < pivot]\n",
    "    right = [item for item in data[:1] if item >=pivot]\n",
    "    \n",
    "    if search!=None:\n",
    "        if pivot <=search:\n",
    "            return right\n",
    "        elif pivot>=search:\n",
    "            return left\n",
    "    \n",
    "    return quick_sort2(left,search)+[pivot]+quick_sort2(right,search)\n",
    "\n",
    "def binary_search(data, search):\n",
    "#     정렬 전제하에\n",
    "    if len(data)==1 and data[0]==search:\n",
    "        return True\n",
    "    elif len(data)==1:\n",
    "        return False\n",
    "    \n",
    "    mid_idx = len(data)//2\n",
    "    \n",
    "    if data[mid_idx] < search:\n",
    "        return binary_search(data[mid_idx:],search)\n",
    "    else:\n",
    "        return binary_search(data[:mid_idx],search)\n",
    "        "
   ]
  },
  {
   "cell_type": "code",
   "execution_count": 50,
   "metadata": {},
   "outputs": [
    {
     "data": {
      "text/plain": [
       "False"
      ]
     },
     "execution_count": 50,
     "metadata": {},
     "output_type": "execute_result"
    }
   ],
   "source": [
    "data_list = quick_sort2(data_test,2)\n",
    "\n",
    "binary_search(data_list,2)"
   ]
  },
  {
   "cell_type": "markdown",
   "metadata": {},
   "source": [
    "#### merge_sort and binary_search"
   ]
  },
  {
   "cell_type": "code",
   "execution_count": 51,
   "metadata": {},
   "outputs": [
    {
     "data": {
      "text/plain": [
       "[47, 71, 14, 84, 81, 90, 52, 83, 78, 56]"
      ]
     },
     "execution_count": 51,
     "metadata": {},
     "output_type": "execute_result"
    }
   ],
   "source": [
    "data = random.sample(range(100),10)\n",
    "data"
   ]
  },
  {
   "cell_type": "code",
   "execution_count": 70,
   "metadata": {},
   "outputs": [],
   "source": [
    "def merge(left,right,search=None):\n",
    "    if search != None:\n",
    "        if left[0]==search or right[0]==search:\n",
    "            return True\n",
    "        else:\n",
    "            return False\n",
    "    else:\n",
    "    \n",
    "        sorted_list = []\n",
    "        while len(left)>0 or len(right)>0:\n",
    "            if len(left)>0 and len(right)>0:\n",
    "                if left[0] < right[0]:\n",
    "                    sorted_list.append(left[0])\n",
    "                    left=left[1:]\n",
    "                else:\n",
    "                    sorted_list.append(right[0])\n",
    "                    right = right[1:]\n",
    "            elif len(left)>0:\n",
    "                sorted_list.append(left[0])\n",
    "                left= left[1:]\n",
    "            elif len(right)>0:\n",
    "                sorted_list.append(right[0])\n",
    "                right=right[1:]\n",
    "        return sorted_list\n",
    "    \n",
    "\n",
    "def merge_sort(data,search=None):\n",
    "    if len(data)<=1:\n",
    "        return data\n",
    "    \n",
    "    mid_idx = len(data)//2\n",
    "    \n",
    "    left = merge_sort(data[:mid_idx])\n",
    "    right = merge_sort(data[mid_idx:])\n",
    "    \n",
    "    return merge(left,right,search)"
   ]
  },
  {
   "cell_type": "code",
   "execution_count": 71,
   "metadata": {},
   "outputs": [
    {
     "data": {
      "text/plain": [
       "[14, 47, 52, 56, 71, 78, 81, 83, 84, 90]"
      ]
     },
     "execution_count": 71,
     "metadata": {},
     "output_type": "execute_result"
    }
   ],
   "source": [
    "merge_sort(data)"
   ]
  }
 ],
 "metadata": {
  "kernelspec": {
   "display_name": "Python 3",
   "language": "python",
   "name": "python3"
  },
  "language_info": {
   "codemirror_mode": {
    "name": "ipython",
    "version": 3
   },
   "file_extension": ".py",
   "mimetype": "text/x-python",
   "name": "python",
   "nbconvert_exporter": "python",
   "pygments_lexer": "ipython3",
   "version": "3.7.6"
  }
 },
 "nbformat": 4,
 "nbformat_minor": 4
}
