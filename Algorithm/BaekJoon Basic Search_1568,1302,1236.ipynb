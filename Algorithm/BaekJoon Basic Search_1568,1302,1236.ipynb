{
 "cells": [
  {
   "cell_type": "markdown",
   "metadata": {},
   "source": [
    "### 1568 새"
   ]
  },
  {
   "cell_type": "code",
   "execution_count": 3,
   "metadata": {},
   "outputs": [
    {
     "name": "stdout",
     "output_type": "stream",
     "text": [
      "14\n",
      "7\n"
     ]
    }
   ],
   "source": [
    "birds = int(input())\n",
    "singing = 1\n",
    "cnt=0\n",
    "\n",
    "while birds !=0:\n",
    "    if birds >= singing:\n",
    "        birds -= singing\n",
    "        singing+=1\n",
    "        cnt+=1\n",
    "    else:\n",
    "        singing = 1\n",
    "print(cnt)"
   ]
  },
  {
   "cell_type": "markdown",
   "metadata": {},
   "source": [
    "### 1302 베스트 셀러"
   ]
  },
  {
   "cell_type": "code",
   "execution_count": 8,
   "metadata": {},
   "outputs": [
    {
     "name": "stdout",
     "output_type": "stream",
     "text": [
      "5\n",
      "top\n",
      "top\n",
      "top\n",
      "top\n",
      "ant\n",
      "top\n"
     ]
    }
   ],
   "source": [
    "#  class \n",
    "\n",
    "n = int(input())\n",
    "books = {}\n",
    "\n",
    "for _ in range(n):\n",
    "    book = input()\n",
    "    if book not in books:\n",
    "        books[book] = 1\n",
    "    else:\n",
    "        books[book] +=1\n",
    "        \n",
    "target = max(books.values())\n",
    "result = list()  # 동일 판매량 다른 책 일 수 있으니까\n",
    "\n",
    "for book, number in books.items():\n",
    "    if number == target:\n",
    "        result.append(book)\n",
    "\n",
    "print(sorted(result)[0])\n",
    "        "
   ]
  },
  {
   "cell_type": "code",
   "execution_count": 9,
   "metadata": {},
   "outputs": [
    {
     "name": "stdout",
     "output_type": "stream",
     "text": [
      "5\n",
      "top\n",
      "top\n",
      "top\n",
      "top\n",
      "ant\n",
      "top\n"
     ]
    }
   ],
   "source": [
    "import heapq\n",
    "\n",
    "length = int(input())\n",
    "selled = []\n",
    "map_list = set()\n",
    "\n",
    "for _ in range(length):\n",
    "    selled.append(input())\n",
    "\n",
    "for i in selled:\n",
    "    map_list.add(i)\n",
    "\n",
    "result = []\n",
    "cnt =0\n",
    "for i in map_list:\n",
    "    while i in selled:\n",
    "        cnt+=1\n",
    "        del selled[selled.index(i)]\n",
    "    heapq.heappush(result,[-cnt,i])\n",
    "    cnt=0\n",
    "\n",
    "print(heapq.heappop(result)[1])"
   ]
  },
  {
   "cell_type": "markdown",
   "metadata": {},
   "source": [
    "### 1236 성 지키기"
   ]
  },
  {
   "cell_type": "code",
   "execution_count": 5,
   "metadata": {},
   "outputs": [
    {
     "name": "stdout",
     "output_type": "stream",
     "text": [
      "4 4\n",
      "...X\n",
      "..X.\n",
      ".X..\n",
      "....\n",
      "1\n"
     ]
    }
   ],
   "source": [
    "# class\n",
    "\n",
    "n,m = map(int, input().split())\n",
    "arr = []\n",
    "\n",
    "for _ in range(n):\n",
    "    arr.append(input())\n",
    "    \n",
    "row = [0]*n\n",
    "col = [0]*m\n",
    "\n",
    "for i in range(n):\n",
    "    for j in range(m):\n",
    "        if arr[i][j]=='X':\n",
    "            row[i] =1\n",
    "            col[j] =1\n",
    "            \n",
    "row_cnt = 0\n",
    "for i in range(n):\n",
    "    if row[i] == 0:\n",
    "        row_cnt +=1\n",
    "        \n",
    "col_cnt = 0\n",
    "for j in range(m):\n",
    "    if col[j]==0:\n",
    "        col_cnt += 1\n",
    "        \n",
    "print(max(row_cnt, col_cnt))"
   ]
  },
  {
   "cell_type": "code",
   "execution_count": 6,
   "metadata": {
    "scrolled": true
   },
   "outputs": [
    {
     "name": "stdout",
     "output_type": "stream",
     "text": [
      "4 4\n",
      "...X\n",
      "..X.\n",
      ".X..\n",
      "....\n",
      "1\n"
     ]
    }
   ],
   "source": [
    "#  코드 길이가 더 길지만 메모리, 속도 동일\n",
    "\n",
    "n,m = map(int, input().split())\n",
    "\n",
    "castle = []\n",
    "guard = 'X'\n",
    "\n",
    "for i in range(n):\n",
    "    data = input()\n",
    "    castle.append(data)  \n",
    "    \n",
    "def check_row(data):\n",
    "    result=set()\n",
    "    for i in range(n):\n",
    "        if guard not in data[i]:\n",
    "            result.add(i)\n",
    "    return result\n",
    "\n",
    "def check_col(data):\n",
    "    existit_txt = set()\n",
    "    for i in range(n):\n",
    "        for j in range(m):\n",
    "            if data[i][j]==guard:\n",
    "                existit_txt.add(j)\n",
    "    data_col = [i for i in range(m)]\n",
    "    data_col = set(data_col)\n",
    "    \n",
    "    result = data_col.difference(existit_txt)\n",
    "    \n",
    "    return result\n",
    "\n",
    "row_cnt = len(check_row(castle))\n",
    "col_cnt = len(check_col(castle))\n",
    "\n",
    "print(max(row_cnt,col_cnt))"
   ]
  },
  {
   "cell_type": "markdown",
   "metadata": {},
   "source": [
    "##### wrong"
   ]
  },
  {
   "cell_type": "code",
   "execution_count": 7,
   "metadata": {},
   "outputs": [
    {
     "name": "stdout",
     "output_type": "stream",
     "text": [
      "4 4\n",
      "...X\n",
      "..X.\n",
      ".X..\n",
      "....\n",
      "1\n"
     ]
    }
   ],
   "source": [
    " # second  : 틀렸습니다.\n",
    "n,m = map(int, input().split())\n",
    "\n",
    "castle = []\n",
    "guard = 'X'\n",
    "\n",
    "for i in range(n):\n",
    "    data = input()\n",
    "    castle.append(data)   \n",
    "    \n",
    "def make_set(num):\n",
    "    stepA = [i for i in range(num)]\n",
    "    stepB = set(stepA)\n",
    "    return stepB\n",
    "\n",
    "def check_guard(data):\n",
    "    row, col = set(), set()\n",
    "    \n",
    "    for i in range(n):\n",
    "        for j in range(m):\n",
    "            if data[i][j]==guard:\n",
    "                row.add(i)\n",
    "                col.add(j)\n",
    "                \n",
    "    row_data = make_set(n)\n",
    "    col_data = make_set(m)\n",
    "    row_none = len(row_data.difference(row))\n",
    "    col_none = len(col_data.difference(col))\n",
    "    \n",
    "    return max(row_none, col_none)\n",
    "\n",
    "print(check_guard(castle))"
   ]
  }
 ],
 "metadata": {
  "kernelspec": {
   "display_name": "Python 3",
   "language": "python",
   "name": "python3"
  },
  "language_info": {
   "codemirror_mode": {
    "name": "ipython",
    "version": 3
   },
   "file_extension": ".py",
   "mimetype": "text/x-python",
   "name": "python",
   "nbconvert_exporter": "python",
   "pygments_lexer": "ipython3",
   "version": "3.7.6"
  }
 },
 "nbformat": 4,
 "nbformat_minor": 4
}
