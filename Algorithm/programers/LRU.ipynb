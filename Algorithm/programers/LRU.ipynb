{
 "cells": [
  {
   "cell_type": "markdown",
   "metadata": {},
   "source": [
    "### LRU Least Recently Used\n",
    ": 가장 최근에 사용된 것 = 페이지에서 제거시 가장 오랫동안 사용하지 않은 것 제거\n",
    "\n",
    "- 오랫동안 참조되지 않은 데이터 제거\n",
    "- Queue 페이지 내에 필요 데이터 존재시 페이지 맨 윗 순서로 올리고, 없다면 맨 윗 순서 넣고,맨 아래 데이터 제거 \n",
    "\n",
    "- 문제에서 추가 조건\n",
    "    - cacheSize =0 인 경우\n",
    "    - 대소문자 구분 없이"
   ]
  },
  {
   "cell_type": "code",
   "execution_count": 1,
   "metadata": {},
   "outputs": [],
   "source": [
    "# 프로그래머스\n",
    "\n",
    "# cacheSize = 3\n",
    "# cities = [\"Jeju\", \"Pangyo\", \"Seoul\", \"NewYork\", \"LA\", \"Jeju\", \"Pangyo\", \"Seoul\", \"NewYork\", \"LA\"]    # 50\n",
    "# cities = [\"Jeju\", \"Pangyo\", \"Seoul\", \"Jeju\", \"Pangyo\", \"Seoul\", \"Jeju\", \"Pangyo\", \"Seoul\"] # 21\n",
    "\n",
    "# cacheSize = 5\n",
    "# cities = [\"Jeju\", \"Pangyo\", \"Seoul\", \"NewYork\", \"LA\", \"SanFrancisco\", \"Seoul\", \"Rome\", \"Paris\", \"Jeju\", \"NewYork\", \"Rome\"]  # 52\n",
    "\n",
    "cacheSize = 2\n",
    "cities = [\"Jeju\", \"Pangyo\", \"NewYork\", \"newyork\"]  # 16"
   ]
  },
  {
   "cell_type": "code",
   "execution_count": 2,
   "metadata": {},
   "outputs": [
    {
     "data": {
      "text/plain": [
       "16"
      ]
     },
     "execution_count": 2,
     "metadata": {},
     "output_type": "execute_result"
    }
   ],
   "source": [
    "#cache hit : data가 페이지에 있을 때  + 1\n",
    "#cache miss : data가 페이지에 없을 때  + 5 \n",
    "\n",
    "from collections import deque\n",
    "\n",
    "def check_cache(city,size):\n",
    "    if city in cache:\n",
    "        if city != cache[-1]:\n",
    "            cache.remove(city)    \n",
    "            cache.append(city)\n",
    "        return 1\n",
    "    else:\n",
    "        if size and len(cache)>= size: cache.pop(0)\n",
    "        cache.append(city)\n",
    "        return 5\n",
    "\n",
    "def solution(cacheSize, cities):\n",
    "    global cache\n",
    "    answer, cache = 0, []\n",
    "    cities = deque(cities)\n",
    "    while cities:\n",
    "        city = cities.popleft().lower()\n",
    "        answer += check_cache(city,cacheSize)\n",
    "       \n",
    "    return answer\n",
    "\n",
    "solution(cacheSize, cities)"
   ]
  },
  {
   "cell_type": "code",
   "execution_count": null,
   "metadata": {},
   "outputs": [],
   "source": [
    "# 다른 사람 풀이\n",
    "def solution(cacheSize, cities):\n",
    "    import collections\n",
    "    cache = collections.deque(maxlen=cacheSize)\n",
    "    time = 0\n",
    "    for i in cities:\n",
    "        s = i.lower()\n",
    "        if s in cache:\n",
    "            cache.remove(s)\n",
    "            cache.append(s)\n",
    "            time += 1\n",
    "        else:\n",
    "            cache.append(s)\n",
    "            time += 5\n",
    "    return time"
   ]
  }
 ],
 "metadata": {
  "kernelspec": {
   "display_name": "Python 3",
   "language": "python",
   "name": "python3"
  },
  "language_info": {
   "codemirror_mode": {
    "name": "ipython",
    "version": 3
   },
   "file_extension": ".py",
   "mimetype": "text/x-python",
   "name": "python",
   "nbconvert_exporter": "python",
   "pygments_lexer": "ipython3",
   "version": "3.7.6"
  }
 },
 "nbformat": 4,
 "nbformat_minor": 4
}
