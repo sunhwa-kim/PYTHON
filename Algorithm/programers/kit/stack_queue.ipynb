{
 "cells": [
  {
   "cell_type": "markdown",
   "metadata": {},
   "source": [
    "- 프린터\n",
    "- https://programmers.co.kr/learn/courses/30/lessons/42587"
   ]
  },
  {
   "cell_type": "code",
   "execution_count": 28,
   "metadata": {},
   "outputs": [],
   "source": [
    "priorities = [1, 1, 9, 1, 1, 1]\n",
    "location = 0"
   ]
  },
  {
   "cell_type": "code",
   "execution_count": 33,
   "metadata": {},
   "outputs": [
    {
     "data": {
      "text/plain": [
       "5"
      ]
     },
     "execution_count": 33,
     "metadata": {},
     "output_type": "execute_result"
    }
   ],
   "source": [
    "def solution(priorities, location):\n",
    "    answer = 0\n",
    "    data = []\n",
    "    for idx, j in enumerate(priorities):\n",
    "        data.append((idx,j))\n",
    "    \n",
    "    max_val = max(priorities)\n",
    "    while data:\n",
    "        tmp = data.pop(0)\n",
    "        if tmp[1] == max_val:\n",
    "            answer += 1\n",
    "            if tmp[0] == location:\n",
    "                return answer\n",
    "            if max_val not in data:\n",
    "                max_val = max(data, key=lambda x:x[1])[1]\n",
    "            \n",
    "        else:\n",
    "            data.append(tmp)\n",
    "    \n",
    "    return answer\n",
    "\n",
    "solution(priorities, location)"
   ]
  },
  {
   "cell_type": "code",
   "execution_count": null,
   "metadata": {},
   "outputs": [],
   "source": [
    "# programmers 다른 사람 풀이 참고\n",
    "# any == or, all == and\n",
    "def solution(priorities, location):\n",
    "    queue =  [(i,p) for i,p in enumerate(priorities)]\n",
    "    answer = 0\n",
    "    while True:\n",
    "        cur = queue.pop(0)\n",
    "        if any(cur[1] < q[1] for q in queue):\n",
    "            queue.append(cur)\n",
    "        else:\n",
    "            answer += 1\n",
    "            if cur[0] == location:\n",
    "                return answer"
   ]
  },
  {
   "cell_type": "markdown",
   "metadata": {},
   "source": [
    "- 다리를 지나는 트럭\n",
    "- https://programmers.co.kr/learn/courses/30/lessons/42583"
   ]
  },
  {
   "cell_type": "code",
   "execution_count": 133,
   "metadata": {},
   "outputs": [],
   "source": [
    "bridge_length = 2\n",
    "weight = 10\n",
    "truck_weights = [7,4,5,6]\n",
    "# 8\n",
    "\n",
    "# bridge_length = 100\n",
    "# weight = 100\n",
    "# truck_weights = [10,10,10,10,10,10,10,10,10,10]\n",
    "# 110\n",
    "\n",
    "# bridge_length = 2\n",
    "# weight = 10\n",
    "# truck_weights = [7]\n",
    "\n",
    "# bridge_length = 50\n",
    "# weight = 50\n",
    "# truck_weights = [10, 10, 50, 10, 10]"
   ]
  },
  {
   "cell_type": "code",
   "execution_count": 108,
   "metadata": {},
   "outputs": [],
   "source": [
    "from collections import deque"
   ]
  },
  {
   "cell_type": "code",
   "execution_count": 136,
   "metadata": {},
   "outputs": [
    {
     "data": {
      "text/plain": [
       "8"
      ]
     },
     "execution_count": 136,
     "metadata": {},
     "output_type": "execute_result"
    }
   ],
   "source": [
    "# https://assaeunji.github.io/python/2020-05-08-pgtruck/\n",
    "def solution(bridge_length,weight,truck_weights):\n",
    "    answer = 0\n",
    "    bridge_on = [0]* bridge_length\n",
    "    curr_weight = 0\n",
    "    \n",
    "    while truck_weights:\n",
    "        answer+=1\n",
    "        bridge_out = bridge_on.pop(0)\n",
    "        curr_weight -= bridge_out\n",
    "\n",
    "        if curr_weight + truck_weights[0] > weight:\n",
    "            bridge_on.append(0)\n",
    "        else:\n",
    "            truck = truck_weights.pop(0)\n",
    "            bridge_on.append(truck)\n",
    "            curr_weight += truck\n",
    "\n",
    "\n",
    "    while curr_weight>0:\n",
    "        answer +=1\n",
    "        bridge_out = bridge_on.pop(0)\n",
    "        curr_weight -=bridge_out\n",
    "\n",
    "    return answer\n",
    "solution(bridge_length, weight, truck_weights)"
   ]
  },
  {
   "cell_type": "code",
   "execution_count": null,
   "metadata": {},
   "outputs": [],
   "source": [
    "# programmers another\n",
    "import collections\n",
    "\n",
    "DUMMY_TRUCK = 0\n",
    "\n",
    "\n",
    "class Bridge(object):\n",
    "\n",
    "    def __init__(self, length, weight):\n",
    "        self._max_length = length\n",
    "        self._max_weight = weight\n",
    "        self._queue = collections.deque()\n",
    "        self._current_weight = 0\n",
    "\n",
    "    def push(self, truck):\n",
    "        next_weight = self._current_weight + truck\n",
    "        if next_weight <= self._max_weight and len(self._queue) < self._max_length:\n",
    "            self._queue.append(truck)\n",
    "            self._current_weight = next_weight\n",
    "            return True\n",
    "        else:\n",
    "            return False\n",
    "\n",
    "    def pop(self):\n",
    "        item = self._queue.popleft()\n",
    "        self._current_weight -= item\n",
    "        return item\n",
    "\n",
    "    def __len__(self):\n",
    "        return len(self._queue)\n",
    "\n",
    "    def __repr__(self):\n",
    "        return 'Bridge({}/{} : [{}])'.format(self._current_weight, self._max_weight, list(self._queue))\n",
    "\n",
    "\n",
    "def solution(bridge_length, weight, truck_weights):\n",
    "    bridge = Bridge(bridge_length, weight)\n",
    "    trucks = collections.deque(w for w in truck_weights)\n",
    "\n",
    "    for _ in range(bridge_length):\n",
    "        bridge.push(DUMMY_TRUCK)\n",
    "\n",
    "    count = 0\n",
    "    while trucks:\n",
    "        bridge.pop()\n",
    "\n",
    "        if bridge.push(trucks[0]):\n",
    "            trucks.popleft()\n",
    "        else:\n",
    "            bridge.push(DUMMY_TRUCK)\n",
    "\n",
    "        count += 1\n",
    "\n",
    "    while bridge:\n",
    "        bridge.pop()\n",
    "        count += 1\n",
    "\n",
    "    return count\n",
    "\n",
    "\n",
    "def main():\n",
    "    print(solution(2, 10, [7, 4, 5, 6]), 8)\n",
    "    print(solution(100, 100, [10]), 101)\n",
    "    print(solution(100, 100, [10, 10, 10, 10, 10, 10, 10, 10, 10, 10]), 110)\n",
    "\n",
    "\n",
    "if __name__ == '__main__':\n",
    "    main()\n"
   ]
  },
  {
   "cell_type": "markdown",
   "metadata": {},
   "source": [
    "- 기능개발\n",
    "- https://programmers.co.kr/learn/courses/30/lessons/42586"
   ]
  },
  {
   "cell_type": "code",
   "execution_count": 21,
   "metadata": {},
   "outputs": [],
   "source": [
    "# progresses = [93, 30, 55]\n",
    "# speeds = [1, 30, 5]\n",
    "# [2, 1]\n",
    "progresses = [95, 90, 99, 99, 80, 99]\n",
    "speeds = [1, 1, 1, 1, 1, 1]\n",
    "# [1, 3, 2]"
   ]
  },
  {
   "cell_type": "code",
   "execution_count": 22,
   "metadata": {},
   "outputs": [
    {
     "data": {
      "text/plain": [
       "[1, 3, 2]"
      ]
     },
     "execution_count": 22,
     "metadata": {},
     "output_type": "execute_result"
    }
   ],
   "source": [
    "import math\n",
    "def solution(progresses, speeds):\n",
    "    lst,answer = [], []\n",
    "    idx,cnt = 0,0\n",
    "    for p,s in zip(progresses,speeds):\n",
    "        remained = 100- p\n",
    "        days = math.ceil(remained/s)\n",
    "        lst.append(days)\n",
    "        if len(lst)>1 and lst[idx] < lst[-1]:\n",
    "            idx = len(lst)-1\n",
    "            answer.append(cnt)\n",
    "            cnt = 1\n",
    "        else:\n",
    "            cnt +=1\n",
    "    answer.append(cnt)\n",
    "    return answer\n",
    "\n",
    "solution(progresses, speeds)"
   ]
  },
  {
   "cell_type": "markdown",
   "metadata": {},
   "source": [
    "- 주식가격"
   ]
  },
  {
   "cell_type": "code",
   "execution_count": 2,
   "metadata": {},
   "outputs": [],
   "source": [
    "prices = [1, 2, 3, 2, 3]\n",
    "# [4, 3, 1, 1, 0]"
   ]
  },
  {
   "cell_type": "code",
   "execution_count": 10,
   "metadata": {},
   "outputs": [
    {
     "data": {
      "text/plain": [
       "[4, 3, 1, 1, 0]"
      ]
     },
     "execution_count": 10,
     "metadata": {},
     "output_type": "execute_result"
    }
   ],
   "source": [
    "def solution(prices):\n",
    "    answer = []\n",
    "    length = len(prices)\n",
    "    for i, p in enumerate(prices):\n",
    "        answer.append(0)\n",
    "        for j in range(i+1,length):\n",
    "            answer[i] += 1\n",
    "            if p > prices[j]:\n",
    "                break\n",
    "    \n",
    "    return answer\n",
    "solution(prices)"
   ]
  }
 ],
 "metadata": {
  "kernelspec": {
   "display_name": "Python 3",
   "language": "python",
   "name": "python3"
  },
  "language_info": {
   "codemirror_mode": {
    "name": "ipython",
    "version": 3
   },
   "file_extension": ".py",
   "mimetype": "text/x-python",
   "name": "python",
   "nbconvert_exporter": "python",
   "pygments_lexer": "ipython3",
   "version": "3.7.6"
  }
 },
 "nbformat": 4,
 "nbformat_minor": 4
}
