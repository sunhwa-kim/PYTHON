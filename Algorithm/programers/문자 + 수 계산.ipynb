{
 "cells": [
  {
   "cell_type": "code",
   "execution_count": 64,
   "metadata": {},
   "outputs": [],
   "source": [
    "orders = [\"ABCFG\", \"AC\", \"CDE\", \"ACDE\", \"BCFG\", \"ACDEH\"]\n",
    "course = [2,3,4]"
   ]
  },
  {
   "cell_type": "code",
   "execution_count": 80,
   "metadata": {},
   "outputs": [
    {
     "data": {
      "text/plain": [
       "[('C', 6),\n",
       " ('A', 4),\n",
       " ('D', 3),\n",
       " ('E', 3),\n",
       " ('B', 2),\n",
       " ('F', 2),\n",
       " ('G', 2),\n",
       " ('H', 1)]"
      ]
     },
     "execution_count": 80,
     "metadata": {},
     "output_type": "execute_result"
    }
   ],
   "source": [
    "menu = dict()\n",
    "for i in orders:\n",
    "    for j in i:\n",
    "        if j not in menu:\n",
    "            menu[j] = 1\n",
    "        else:\n",
    "            menu[j] +=1\n",
    "# lst = [(key,val) for key,val in menu.items()]\n",
    "# lst_sort = sorted(lst, key=lambda x:x[1], reverse=True)\n"
   ]
  },
  {
   "cell_type": "code",
   "execution_count": 107,
   "metadata": {},
   "outputs": [],
   "source": [
    "menu_cnt = dict()\n",
    "for i in menu.keys():\n",
    "    cnt = menu[i]\n",
    "    if cnt not in menu_cnt:\n",
    "        menu_cnt[cnt] = [i]\n",
    "    else:\n",
    "        menu_cnt[cnt].append(i)\n",
    "lst = [i for i in menu_cnt.keys()]\n",
    "lst.sort(reverse=True)"
   ]
  },
  {
   "cell_type": "code",
   "execution_count": 108,
   "metadata": {},
   "outputs": [
    {
     "data": {
      "text/plain": [
       "[6, 4, 3, 2, 1]"
      ]
     },
     "execution_count": 108,
     "metadata": {},
     "output_type": "execute_result"
    }
   ],
   "source": [
    "lst"
   ]
  },
  {
   "cell_type": "code",
   "execution_count": 109,
   "metadata": {},
   "outputs": [
    {
     "data": {
      "text/plain": [
       "{4: ['A'], 2: ['B', 'F', 'G'], 6: ['C'], 3: ['D', 'E'], 1: ['H']}"
      ]
     },
     "execution_count": 109,
     "metadata": {},
     "output_type": "execute_result"
    }
   ],
   "source": [
    "menu_cnt"
   ]
  },
  {
   "cell_type": "code",
   "execution_count": 111,
   "metadata": {},
   "outputs": [
    {
     "data": {
      "text/plain": [
       "['C']"
      ]
     },
     "execution_count": 111,
     "metadata": {},
     "output_type": "execute_result"
    }
   ],
   "source": [
    "orders = [\"ABCFG\", \"AC\", \"CDE\", \"ACDE\", \"BCFG\", \"ACDEH\"]\n",
    "course = [2,3,4]\n",
    "answer = []\n",
    "\n",
    "cnt_lst = menu_cnt[lst[0]]\n",
    "cnt_lst\n",
    "\n",
    "for i in range(1, len(lst)):\n",
    "    if lst[i]"
   ]
  },
  {
   "cell_type": "code",
   "execution_count": 100,
   "metadata": {},
   "outputs": [
    {
     "data": {
      "text/plain": [
       "['AC', 'ACD', 'ACDE']"
      ]
     },
     "execution_count": 100,
     "metadata": {},
     "output_type": "execute_result"
    }
   ],
   "source": [
    "answer"
   ]
  },
  {
   "cell_type": "code",
   "execution_count": null,
   "metadata": {},
   "outputs": [],
   "source": [
    "[\"AC\", \"ACDE\", \"BCFG\", \"CDE\"]"
   ]
  },
  {
   "cell_type": "markdown",
   "metadata": {},
   "source": [
    "- 2019 KAKAO BLIND RECRUITMENT  오픈채팅방"
   ]
  },
  {
   "cell_type": "code",
   "execution_count": 1,
   "metadata": {},
   "outputs": [],
   "source": [
    "record = [\"Enter uid1234 Muzi\", \"Enter uid4567 Prodo\", \"Leave uid1234\", \"Enter uid1234 Prodo\", \"Change uid4567 Ryan\"]"
   ]
  },
  {
   "cell_type": "code",
   "execution_count": 16,
   "metadata": {},
   "outputs": [
    {
     "data": {
      "text/plain": [
       "['Prodo님이 들어왔습니다.', 'Ryan님이 들어왔습니다.', 'Prodo님이 나갔습니다.', 'Prodo님이 들어왔습니다.']"
      ]
     },
     "execution_count": 16,
     "metadata": {},
     "output_type": "execute_result"
    }
   ],
   "source": [
    "# my - 통과\n",
    "def solution(record):\n",
    "    answer, data = [],[]\n",
    "    id_name = dict()\n",
    "    for i in range(len(record)):\n",
    "        data.append(record[i].split())\n",
    "        if len(data[i])>2:\n",
    "            id_name[data[i][1]] = data[i][2]\n",
    "\n",
    "    for i in range(len(data)):\n",
    "        result = ''\n",
    "        if data[i][0]=='Enter':\n",
    "            result = id_name[data[i][1]]+'님이 들어왔습니다.'\n",
    "        elif data[i][0]=='Leave':\n",
    "            result = id_name[data[i][1]]+'님이 나갔습니다.'\n",
    "        if result !='':\n",
    "            answer.append(result)\n",
    "    return answer\n",
    "solution(record)"
   ]
  },
  {
   "cell_type": "code",
   "execution_count": null,
   "metadata": {},
   "outputs": [],
   "source": [
    "def solution(record):\n",
    "    answer = []\n",
    "    namespace = {}\n",
    "    printer = {'Enter':'님이 들어왔습니다.', 'Leave':'님이 나갔습니다.'}\n",
    "    for r in record:\n",
    "        rr = r.split(' ')\n",
    "        if rr[0] in ['Enter', 'Change']:\n",
    "            namespace[rr[1]] = rr[2]\n",
    "\n",
    "    for r in record:\n",
    "        if r.split(' ')[0] != 'Change':\n",
    "            answer.append(namespace[r.split(' ')[1]] + printer[r.split(' ')[0]])\n",
    "\n",
    "    return answer"
   ]
  },
  {
   "cell_type": "markdown",
   "metadata": {},
   "source": [
    "- 2018 KAKAO BLIND RECRUITMENT\n",
    "[1차] 뉴스 클러스터링\n",
    "도움말\n",
    "- 병합정렬\n"
   ]
  },
  {
   "cell_type": "code",
   "execution_count": 2,
   "metadata": {},
   "outputs": [],
   "source": [
    "str1 = 'aa1+aa2'.lower()\n",
    "str2 = 'AAAA12'.lower()"
   ]
  },
  {
   "cell_type": "code",
   "execution_count": 5,
   "metadata": {},
   "outputs": [
    {
     "data": {
      "text/plain": [
       "(['aa', 'aa'], ['aa', 'aa', 'aa'])"
      ]
     },
     "execution_count": 5,
     "metadata": {},
     "output_type": "execute_result"
    }
   ],
   "source": [
    "text= re.compile('[^a-z]')\n",
    "str1_lst = [str1[i:i+2] for i in range(len(str1)-1) if not text.search(str1[i:i+2])]\n",
    "str2_lst = [str2[i:i+2] for i in range(len(str2)-1) if not text.search(str2[i:i+2])]\n",
    "\n",
    "intersection_set = set(str1_lst) & set(str2_lst)\n",
    "union_set = set(str1_lst) | set(str2_lst)\n",
    "\n",
    "intersection_cnt = [ min(str1_lst.count(i), str2_lst.count(i)) for i in intersection_set]\n",
    "union_cnt = [max(str1_lst.count(i), str2_lst.count(i)) for i in union_set]\n",
    "if union_cnt ==0:\n",
    "    answer = 65536\n",
    "else:\n",
    "    answer = int(sum(intersection_cnt)/sum(union_cnt) * 65536)\n",
    "answer"
   ]
  },
  {
   "cell_type": "code",
   "execution_count": 62,
   "metadata": {
    "scrolled": true
   },
   "outputs": [
    {
     "name": "stdout",
     "output_type": "stream",
     "text": [
      "[]\n",
      "['1']\n",
      "['1+']\n",
      "['+']\n",
      "[]\n",
      "['2']\n"
     ]
    }
   ],
   "source": [
    "for i in range(0, len(str1)-1):\n",
    "#     if not re.findall('[^a-zA-Z]+', str1[i:i+2]):\n",
    "    print(re.findall('[^a-zA-Z]+',str1[i:i+2]))  # []+ 는 글자수가 하나더 결합한 경우까지 모든 경우를 찾아냄"
   ]
  },
  {
   "cell_type": "code",
   "execution_count": 65,
   "metadata": {
    "scrolled": false
   },
   "outputs": [
    {
     "name": "stdout",
     "output_type": "stream",
     "text": [
      "None\n",
      "<re.Match object; span=(1, 2), match='1'>\n",
      "<re.Match object; span=(0, 1), match='1'>\n",
      "<re.Match object; span=(0, 1), match='+'>\n",
      "None\n",
      "<re.Match object; span=(1, 2), match='2'>\n"
     ]
    }
   ],
   "source": [
    "for i in range(0, len(str1)-1):\n",
    "    print(text.search(str1[i:i+2]))   # 일치하는 거 하나만 있으면 ok"
   ]
  },
  {
   "cell_type": "code",
   "execution_count": 63,
   "metadata": {
    "scrolled": true
   },
   "outputs": [
    {
     "name": "stdout",
     "output_type": "stream",
     "text": [
      "[]\n",
      "['1']\n",
      "['1', '+']\n",
      "['+']\n",
      "[]\n",
      "['2']\n"
     ]
    }
   ],
   "source": [
    "for i in range(0, len(str1)-1):\n",
    "    print(re.findall('[^a-zA-Z]',str1[i:i+2]))  # 모든 경우를 찾아냄"
   ]
  },
  {
   "cell_type": "markdown",
   "metadata": {},
   "source": [
    "- 카펫"
   ]
  },
  {
   "cell_type": "code",
   "execution_count": 12,
   "metadata": {},
   "outputs": [
    {
     "data": {
      "text/plain": [
       "[3, 3]"
      ]
     },
     "execution_count": 12,
     "metadata": {},
     "output_type": "execute_result"
    }
   ],
   "source": [
    "def solution(brown, yellow):\n",
    "    for i in range(yellow,0,-1):\n",
    "        yw = i\n",
    "        if yellow % yw == 0:\n",
    "            yw_rows = yellow // yw\n",
    "            if (yw+2)*2 +(yw_rows * 2)==brown:\n",
    "                return [yw+2, yw_rows+2]\n",
    "\n",
    "solution(8,1)"
   ]
  },
  {
   "cell_type": "markdown",
   "metadata": {},
   "source": [
    "- 타겟넘버"
   ]
  },
  {
   "cell_type": "code",
   "execution_count": null,
   "metadata": {},
   "outputs": [],
   "source": [
    "from collections import deque\n",
    "def solution(numbers, target):\n",
    "    answer = 0\n",
    "    q = deque([(0,0)])\n",
    "    while q:\n",
    "        summed, idx = q.popleft()\n",
    "        if idx == len(numbers):\n",
    "            if summed == target:\n",
    "                answer += 1\n",
    "        else:\n",
    "            q.append((summed+numbers[idx],idx+1))\n",
    "            q.append((summed-numbers[idx],idx+1))\n",
    "\n",
    "    return answer\n",
    "solution(numbers, target)"
   ]
  },
  {
   "cell_type": "code",
   "execution_count": 32,
   "metadata": {},
   "outputs": [
    {
     "data": {
      "text/plain": [
       "5"
      ]
     },
     "execution_count": 32,
     "metadata": {},
     "output_type": "execute_result"
    }
   ],
   "source": [
    "# 통과 : 불필요한 문자연산 없앴더니 시간초과 해결...\n",
    "def make_target(summed, idx,numbers,target):\n",
    "    global answer\n",
    "    if summed == target and idx == len(numbers):\n",
    "        answer += 1\n",
    "        return \n",
    "    if idx > len(numbers)-1:\n",
    "        return\n",
    "    make_target(summed + numbers[idx],idx+1,numbers,target)\n",
    "    make_target(summed - numbers[idx], idx+1,numbers,target)\n",
    "    \n",
    "    \n",
    "def solution(numbers, target):\n",
    "    global answer\n",
    "    answer = 0\n",
    "    # make_target(value, idx)\n",
    "    make_target(0,0,numbers,target)\n",
    "    return answer\n",
    "\n",
    "solution(numbers, target)"
   ]
  }
 ],
 "metadata": {
  "kernelspec": {
   "display_name": "Python 3",
   "language": "python",
   "name": "python3"
  },
  "language_info": {
   "codemirror_mode": {
    "name": "ipython",
    "version": 3
   },
   "file_extension": ".py",
   "mimetype": "text/x-python",
   "name": "python",
   "nbconvert_exporter": "python",
   "pygments_lexer": "ipython3",
   "version": "3.7.6"
  }
 },
 "nbformat": 4,
 "nbformat_minor": 4
}
