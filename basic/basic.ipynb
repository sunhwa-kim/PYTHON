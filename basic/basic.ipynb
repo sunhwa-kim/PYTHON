{
 "cells": [
  {
   "cell_type": "code",
   "execution_count": 13,
   "metadata": {
    "scrolled": true
   },
   "outputs": [
    {
     "name": "stdout",
     "output_type": "stream",
     "text": [
      "\\    /\\\n",
      " )  ( ')\n",
      "(  /  )\n",
      " \\(__)|\n"
     ]
    }
   ],
   "source": [
    "print('''\\\\    /\\\\''')\n",
    "print(''' )  ( ')''')    # no ')  ( \\')'\n",
    "print('''(  /  )''')\n",
    "print(''' \\\\(__)|''')"
   ]
  },
  {
   "cell_type": "code",
   "execution_count": 16,
   "metadata": {
    "scrolled": false
   },
   "outputs": [
    {
     "name": "stdout",
     "output_type": "stream",
     "text": [
      "4 5\n",
      "0.8\n"
     ]
    }
   ],
   "source": [
    "a,b = map(int, input().split(' '))\n",
    "\n",
    "print(a/b)"
   ]
  },
  {
   "cell_type": "code",
   "execution_count": null,
   "metadata": {},
   "outputs": [],
   "source": [
    "472\n",
    "385"
   ]
  },
  {
   "cell_type": "code",
   "execution_count": null,
   "metadata": {},
   "outputs": [],
   "source": [
    "a = int(input())\n",
    "b = input()\n",
    "\n",
    "for i in range(len(b)-1,-1,-1):\n",
    "    print(a*int(b[i]))\n",
    "print(a*int(b))"
   ]
  },
  {
   "cell_type": "code",
   "execution_count": null,
   "metadata": {},
   "outputs": [],
   "source": [
    "data = int(input())\n",
    "\n",
    "#  4의 배수이면서, 100의 배수가 아닐 때 또는 400의 배수\n",
    "if data%4==0 and (data%100 != 0 or data%400==0):\n",
    "    print(1)\n",
    "else:\n",
    "    print(0)"
   ]
  },
  {
   "cell_type": "markdown",
   "metadata": {},
   "source": [
    "첫째 줄에 두 정수 H와 M이 주어진다. (0 ≤ H ≤ 23, 0 ≤ M ≤ 59) 그리고 이것은 현재 상근이가 설정한 놓은 알람 시간 H시 M분을 의미한다.\n",
    "\n",
    "입력 시간은 24시간 표현을 사용한다. 24시간 표현에서 하루의 시작은 0:0(자정)이고, 끝은 23:59(다음날 자정 1분 전)이다. 시간을 나타낼 때, 불필요한 0은 사용하지 않는다."
   ]
  },
  {
   "cell_type": "code",
   "execution_count": 36,
   "metadata": {
    "scrolled": true
   },
   "outputs": [
    {
     "name": "stdout",
     "output_type": "stream",
     "text": [
      "23 40\n",
      "22 55\n"
     ]
    }
   ],
   "source": [
    "n,m = map(int,input().split(' '))\n",
    "\n",
    "# 45분전 계산\n",
    "\n",
    "if m-45 < 0:\n",
    "    m = 60 + (m-45)\n",
    "    n-=1\n",
    "    if n < 0:\n",
    "        n = 23\n",
    "        \n",
    "    print(n, m)    \n",
    "else:\n",
    "    print(n, m-45)\n"
   ]
  },
  {
   "cell_type": "code",
   "execution_count": 39,
   "metadata": {
    "scrolled": true
   },
   "outputs": [
    {
     "name": "stdout",
     "output_type": "stream",
     "text": [
      "2\n",
      "2 * 1 = 2\n",
      "2 * 2 = 4\n",
      "2 * 3 = 6\n",
      "2 * 4 = 8\n",
      "2 * 5 = 10\n",
      "2 * 6 = 12\n",
      "2 * 7 = 14\n",
      "2 * 8 = 16\n",
      "2 * 9 = 18\n"
     ]
    }
   ],
   "source": [
    "data = int(input())\n",
    "\n",
    "for i in range(1,10):\n",
    "    print(data,'*',i,'=',data*i)\n"
   ]
  },
  {
   "cell_type": "code",
   "execution_count": null,
   "metadata": {},
   "outputs": [],
   "source": [
    "import sys\n",
    "input = sys.stdin.readline\n",
    "n = int(input())\n",
    "\n",
    "\n",
    "for _ in range(n):\n",
    "    a,b = map(int,input().split(' ') )\n",
    "    print(a+b)"
   ]
  },
  {
   "cell_type": "code",
   "execution_count": 42,
   "metadata": {},
   "outputs": [
    {
     "name": "stdout",
     "output_type": "stream",
     "text": [
      "1\n",
      "2 4\n",
      "Case #1:2 + 4 = 6\n"
     ]
    }
   ],
   "source": [
    "t = int(input())\n",
    "\n",
    "for i in range(1,t+1):\n",
    "    a,b = map(int, input().split(' '))\n",
    "    print('Case #{0}: {1} + {2} = {3}'.format(i,a,b,a+b))"
   ]
  },
  {
   "cell_type": "code",
   "execution_count": 47,
   "metadata": {
    "scrolled": false
   },
   "outputs": [
    {
     "name": "stdout",
     "output_type": "stream",
     "text": [
      "3\n",
      "  *\n",
      " **\n",
      "***\n"
     ]
    }
   ],
   "source": [
    "n = int(input())\n",
    "for i in range(1,n+1):\n",
    "    print(' '*(n-i)+'*'*i)"
   ]
  },
  {
   "cell_type": "code",
   "execution_count": 49,
   "metadata": {},
   "outputs": [
    {
     "name": "stdout",
     "output_type": "stream",
     "text": [
      "1 2\n",
      "3\n",
      "\n"
     ]
    }
   ],
   "source": [
    "# 정석\n",
    "import sys\n",
    "\n",
    "for line in sys.stdin:\n",
    "    a,b = map(int, line.split())\n",
    "    print(a + b)\n",
    "    \n",
    "    \n",
    "# \n",
    "try:\n",
    "    while 1:\n",
    "        a,b = map(int, input().split(' '))\n",
    "        print(a+b)\n",
    "except:\n",
    "    exit()"
   ]
  },
  {
   "cell_type": "markdown",
   "metadata": {},
   "source": [
    "0보다 크거나 같고, 99보다 작거나 같은 정수가 주어질 때 다음과 같은 연산을 할 수 있다. 먼저 주어진 수가 10보다 작다면 앞에 0을 붙여 두 자리 수로 만들고, 각 자리의 숫자를 더한다. 그 다음, 주어진 수의 가장 오른쪽 자리 수와 앞에서 구한 합의 가장 오른쪽 자리 수를 이어 붙이면 새로운 수를 만들 수 있다. 다음 예를 보자.\n",
    "\n",
    "26부터 시작한다. 2+6 = 8이다. 새로운 수는 68이다. 6+8 = 14이다. 새로운 수는 84이다. 8+4 = 12이다. 새로운 수는 42이다. 4+2 = 6이다. 새로운 수는 26이다.\n",
    "\n",
    "위의 예는 4번만에 원래 수로 돌아올 수 있다. 따라서 26의 사이클의 길이는 4이다.\n",
    "\n",
    "N이 주어졌을 때, N의 사이클의 길이를 구하는 프로그램을 작성하시오."
   ]
  },
  {
   "cell_type": "code",
   "execution_count": 61,
   "metadata": {
    "scrolled": true
   },
   "outputs": [
    {
     "name": "stdout",
     "output_type": "stream",
     "text": [
      "26\n",
      "4\n"
     ]
    }
   ],
   "source": [
    "n = input()\n",
    "new_n = n\n",
    "cnt = 0\n",
    "\n",
    "while True:\n",
    "    cnt += 1\n",
    "    if int(new_n) < 10:\n",
    "        tmp = '0'+new_n[-1]\n",
    "        new_n = tmp[1] + new_n[-1]\n",
    "        \n",
    "    else:\n",
    "        num = str(eval('{0}+{1}'.format(new_n[0], new_n[1])))    # eval 은 문자열 '1+2'를 계산 '1'+'2' 가 아니라\n",
    "        new_n = new_n[1] + num[-1]\n",
    "        \n",
    "    if int(new_n) == int(n):\n",
    "        print(cnt)\n",
    "        break\n"
   ]
  },
  {
   "cell_type": "code",
   "execution_count": null,
   "metadata": {},
   "outputs": [],
   "source": [
    "data = 1\n",
    "for _ in range(3):\n",
    "    a = int(input())\n",
    "    data *= a    \n",
    "\n",
    "test = str(data)\n",
    "for i in range(10):\n",
    "    print(test.count(str(i)))"
   ]
  },
  {
   "cell_type": "code",
   "execution_count": null,
   "metadata": {},
   "outputs": [],
   "source": [
    "150\n",
    "266\n",
    "427"
   ]
  },
  {
   "cell_type": "code",
   "execution_count": 125,
   "metadata": {
    "scrolled": true
   },
   "outputs": [
    {
     "name": "stdout",
     "output_type": "stream",
     "text": [
      "3\n",
      "10 20 30\n",
      "66.66666666666667\n"
     ]
    }
   ],
   "source": [
    "n = int(input())\n",
    "\n",
    "data = list(map(int, input().split(' ')))\n",
    "\n",
    "max_grade = max(data)\n",
    "\n",
    "new_grade = [ i/max_grade*100 for i in data ]\n",
    "\n",
    "result = sum(new_grade)/n\n",
    "print(result)"
   ]
  },
  {
   "cell_type": "code",
   "execution_count": 132,
   "metadata": {
    "scrolled": true
   },
   "outputs": [
    {
     "name": "stdout",
     "output_type": "stream",
     "text": [
      "1\n",
      "5 50 50 70 80 100\n",
      "40.000%\n"
     ]
    }
   ],
   "source": [
    "t = int(input())\n",
    "\n",
    "for _ in range(t):\n",
    "    a = list(map(int, input().split(' ')))\n",
    "    \n",
    "    n = a[0]\n",
    "    data = a[1:]\n",
    "    \n",
    "    # 평균 넘는 학생의 비율 : 평균넘는 학생수/전체수 * 100 +'%'\n",
    "    average = sum(data)/n\n",
    "    \n",
    "    taller = [i for i in data if i > average]\n",
    "    ratio = len(taller)/n * 100\n",
    "    print('%.3f' % ratio+'%')    # 40.000% 붙여서 출력\n",
    "    \n",
    "#     print('%.3f' % ratio,'%')  # 40.000 % 한 칸 띄우고 출력"
   ]
  },
  {
   "cell_type": "code",
   "execution_count": 15,
   "metadata": {},
   "outputs": [],
   "source": [
    "# 1, 3, 5, 7, 9, 20, 31, 42, 53, 64, 75, 86, 97\n",
    "\n",
    "def selfNumber(n):\n",
    "    if n < 10:\n",
    "        return n+n\n",
    "    else:\n",
    "        result = n\n",
    "#         text = list(str(n))\n",
    "#         text_to_int = list(map(int, text))\n",
    "        num = list(map(int, str(n)))\n",
    "        result += sum(text_to_int)    \n",
    "        return result\n",
    "\n",
    "data = set()\n",
    "for i in range(1,10001):\n",
    "    data.add(selfNumber(i))\n",
    "    \n",
    "for i in range(1,10000):\n",
    "    if i not in data:\n",
    "        print(i)"
   ]
  },
  {
   "cell_type": "code",
   "execution_count": 5,
   "metadata": {
    "scrolled": false
   },
   "outputs": [
    {
     "name": "stdout",
     "output_type": "stream",
     "text": [
      "1\n",
      "1\n"
     ]
    }
   ],
   "source": [
    "n = int(input())\n",
    "hansoo = 0\n",
    "for i in range(1,n+1):\n",
    "    if i < 100:\n",
    "        hansoo+=1\n",
    "        \n",
    "    else:\n",
    "        num = list(map(int, str(i)))\n",
    "        if num[0]-num[1] == num[1]-num[2]:   # 등차 수열이니까 차가 같다는건 부호도 의미, abs() 쓰면 오답\n",
    "             hansoo+=1\n",
    "            \n",
    "print(hansoo)"
   ]
  },
  {
   "cell_type": "code",
   "execution_count": 9,
   "metadata": {
    "scrolled": true
   },
   "outputs": [
    {
     "name": "stdout",
     "output_type": "stream",
     "text": [
      "1\n",
      "\u0001\n"
     ]
    }
   ],
   "source": [
    "# 아스키코드 값 반환\n",
    "\n",
    "n = input()\n",
    "\n",
    "print(ord(n))\n",
    "#  chr()  아스키값을 해당 문자나 숫자로 반환"
   ]
  },
  {
   "cell_type": "code",
   "execution_count": 18,
   "metadata": {
    "scrolled": false
   },
   "outputs": [
    {
     "name": "stdout",
     "output_type": "stream",
     "text": [
      "baekjoon\n",
      "1 0 -1 -1 2 -1 -1 -1 -1 4 3 -1 -1 7 5 -1 -1 -1 -1 -1 -1 -1 -1 -1 -1 -1\n"
     ]
    }
   ],
   "source": [
    "data = input()\n",
    "result = []\n",
    "for i in range(97, 123):\n",
    "    text = chr(i)\n",
    "    if text in data:\n",
    "        result.append(data.index(text))\n",
    "    else:\n",
    "        result.append(-1)\n",
    "        \n",
    "print(*result)   #  list 를 일렬로 출력 시켜줌"
   ]
  },
  {
   "cell_type": "code",
   "execution_count": 28,
   "metadata": {
    "scrolled": true
   },
   "outputs": [
    {
     "name": "stdout",
     "output_type": "stream",
     "text": [
      "1\n",
      "5 /HTP\n",
      "/////HHHHHTTTTTPPPPP\n"
     ]
    }
   ],
   "source": [
    "t = int(input())\n",
    "\n",
    "for _ in range(t):\n",
    "    a = input().split(' ')\n",
    "    n = int(a[0])\n",
    "    data = list(a[1])\n",
    "    result = ''\n",
    "    for i in data:\n",
    "        result += i*n\n",
    "        \n",
    "    \n",
    "    print(result)     # print(*문자열)  글자가 각각 한 칸씩 띄우고 출력 할 수 있다"
   ]
  },
  {
   "cell_type": "code",
   "execution_count": 43,
   "metadata": {
    "scrolled": false
   },
   "outputs": [
    {
     "name": "stdout",
     "output_type": "stream",
     "text": [
      "baaa\n",
      "B\n"
     ]
    }
   ],
   "source": [
    "# Mississipi\n",
    "\n"
   ]
  }
 ],
 "metadata": {
  "kernelspec": {
   "display_name": "Python 3",
   "language": "python",
   "name": "python3"
  },
  "language_info": {
   "codemirror_mode": {
    "name": "ipython",
    "version": 3
   },
   "file_extension": ".py",
   "mimetype": "text/x-python",
   "name": "python",
   "nbconvert_exporter": "python",
   "pygments_lexer": "ipython3",
   "version": "3.7.6"
  }
 },
 "nbformat": 4,
 "nbformat_minor": 4
}
