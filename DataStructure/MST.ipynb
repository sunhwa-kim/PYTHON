{
 "cells": [
  {
   "cell_type": "markdown",
   "metadata": {},
   "source": [
    "#### ST"
   ]
  },
  {
   "cell_type": "markdown",
   "metadata": {},
   "source": [
    "#### MST\n",
    "- kruskal algorithm\n",
    "- prim's algorithm"
   ]
  },
  {
   "cell_type": "markdown",
   "metadata": {},
   "source": [
    "#### kruskal\n",
    "- 시간복잡도 비교\n",
    "- 논리 정리 (응용위한)"
   ]
  },
  {
   "cell_type": "code",
   "execution_count": 2,
   "metadata": {},
   "outputs": [
    {
     "data": {
      "text/plain": [
       "[(5, 'A', 'D'),\n",
       " (5, 'C', 'E'),\n",
       " (6, 'D', 'F'),\n",
       " (7, 'A', 'B'),\n",
       " (7, 'B', 'E'),\n",
       " (9, 'E', 'G')]"
      ]
     },
     "execution_count": 2,
     "metadata": {},
     "output_type": "execute_result"
    }
   ],
   "source": [
    "mygraph = {\n",
    "    'vertices': ['A', 'B', 'C', 'D', 'E', 'F', 'G'],\n",
    "    'edges': [\n",
    "        (7, 'A', 'B'),\n",
    "        (5, 'A', 'D'),\n",
    "        (7, 'B', 'A'),\n",
    "        (8, 'B', 'C'),\n",
    "        (9, 'B', 'D'),\n",
    "        (7, 'B', 'E'),\n",
    "        (8, 'C', 'B'),\n",
    "        (5, 'C', 'E'),\n",
    "        (5, 'D', 'A'),\n",
    "        (9, 'D', 'B'),\n",
    "        (7, 'D', 'E'),\n",
    "        (6, 'D', 'F'),\n",
    "        (7, 'E', 'B'),\n",
    "        (5, 'E', 'C'),\n",
    "        (7, 'E', 'D'),\n",
    "        (8, 'E', 'F'),\n",
    "        (9, 'E', 'G'),\n",
    "        (6, 'F', 'D'),\n",
    "        (8, 'F', 'E'),\n",
    "        (11, 'F', 'G'),\n",
    "        (9, 'G', 'E'),\n",
    "        (11, 'G', 'F')\n",
    "    ]\n",
    "}\n",
    "\n",
    "parent = dict()\n",
    "rank = dict()\n",
    "\n",
    "def make_set(node):\n",
    "    parent[node] = node  # root\n",
    "    rank[node] = 0\n",
    "    \n",
    "def find(node):\n",
    "    if parent[node] != node:\n",
    "        parent[node] = find(parent[node])\n",
    "    return parent[node]\n",
    "\n",
    "def union(nodeA, nodeB):\n",
    "    rootA = find(nodeA)\n",
    "    rootB = find(nodeB)\n",
    "    \n",
    "    if rootA > rootB:\n",
    "        parent[rootB] = rootA\n",
    "    else:\n",
    "        parent[rootA] = rootB\n",
    "        if rank[rootA] == rank[rootB]:\n",
    "            rank[rootB] += 1\n",
    "\n",
    "def kruskal(start, graph):\n",
    "    # 모든 간선들 오름차순 순으로 놓고서 트리 형태로 붇도록\n",
    "    mst = []\n",
    "    for node in graph['vertices']:  # 수정1 :  노드로만   # O(V)\n",
    "        make_set(node)\n",
    "        \n",
    "    edges = graph['edges']\n",
    "    edges.sort()      # O ( ElogE )  (퀵소트 : O ( NlogN))\n",
    "    \n",
    "    for weight, nodeA, nodeB in edges:\n",
    "        if find(nodeA) != find(nodeB):   # union - find : O(logN) -> O(E) ; O(1)\n",
    "            union(nodeA, nodeB)\n",
    "            mst.append((weight,nodeA, nodeB))\n",
    "    return mst\n",
    "\n",
    "kruskal('A', mygraph)"
   ]
  },
  {
   "cell_type": "markdown",
   "metadata": {},
   "source": [
    "#### prim's \n",
    "- 시간복잡도가 kruskal보다 더 오래 걸림\n",
    "- 개선된 프림 알고리즘의 시간복잡도 , 데이터 형태, 각각 필요한 라이브러리"
   ]
  },
  {
   "cell_type": "code",
   "execution_count": 9,
   "metadata": {},
   "outputs": [
    {
     "name": "stdout",
     "output_type": "stream",
     "text": [
      "[(5, 'A', 'D'), (7, 'A', 'B'), (6, 'D', 'F'), (7, 'B', 'E'), (5, 'E', 'C'), (9, 'E', 'G')]\n",
      "([('A', 0), ('D', 5), ('F', 6), ('B', 7), ('E', 7), ('C', 5), ('G', 9)], 39)\n"
     ]
    }
   ],
   "source": [
    "myedges = [\n",
    "    (7, 'A', 'B'), (5, 'A', 'D'),\n",
    "    (8, 'B', 'C'), (9, 'B', 'D'), (7, 'B', 'E'),\n",
    "    (5, 'C', 'E'),\n",
    "    (7, 'D', 'E'), (6, 'D', 'F'),\n",
    "    (8, 'E', 'F'), (9, 'E', 'G'),\n",
    "    (11, 'F', 'G')\n",
    "]\n",
    "\n",
    "from heapq import *\n",
    "from collections import defaultdict\n",
    "def before_prim(start, edges):\n",
    "    #  데이터는 그냥 weight, node->node 순 \n",
    "    #  간선들 중심, heapify, heappop( list ),  defaultdict\n",
    "    mst = []\n",
    "    adjacent_edges = defaultdict(list)     # 수정1 : 안에다 어떤 자료형 쓸 건지 적어줘야 해\n",
    "    for weight, nodeA, nodeB in edges:\n",
    "        adjacent_edges[nodeA].append((weight, nodeA, nodeB))   # 마지막, 두번째 노드는 다음노드로\n",
    "        adjacent_edges[nodeB].append((weight, nodeB, nodeA))\n",
    "    \n",
    "    connected_edges = set(start)\n",
    "    candidate_edges = adjacent_edges[start]\n",
    "    heapify(candidate_edges)    # 최소 힙 구조!   => O ( ElogE )\n",
    "    \n",
    "    while candidate_edges:   # 최악의 경우 모든 간선 반복\n",
    "        weight, nodeA, nodeB = heappop(candidate_edges)\n",
    "        if nodeB not in connected_edges:\n",
    "            connected_edges.add(nodeB)\n",
    "            mst.append((weight, nodeA, nodeB))\n",
    "            \n",
    "            for edge in adjacent_edges[nodeB]:\n",
    "                if edge[2] not in connected_edges:\n",
    "                    candidate_edges.append(edge)\n",
    "    return mst\n",
    "\n",
    "\n",
    "from heapdict import heapdict\n",
    "\n",
    "def prim(start, graph):\n",
    "    # edge보다 node의 개수가 작은 걸 이용, heapdict -> popitem()\n",
    "    # 데이터는 node : weight\n",
    "    # keys와 pi 로 돌아가는 것만 이해하면 간단\n",
    "    mst, keys, pi, total_weight = [], heapdict(), dict(), 0\n",
    "    \n",
    "    for node in graph.keys():    # 노드 중심!\n",
    "        keys[node] = float('inf')    # 우선순위 큐   #  O(V)\n",
    "        pi[node] = None\n",
    "    keys[start], pi[start] = 0, start\n",
    "    \n",
    "    while keys:   # 노드 개수만큼 V\n",
    "        # 바로 연결 -> 즉 다음 노드 연결시 선별과정!\n",
    "        current_node, current_weight = keys.popitem()    # extract min logic - O(logV)  -> while과 같이 보면 O(VlogV)\n",
    "        mst.append((current_node, current_weight))\n",
    "        total_weight += current_weight\n",
    "        \n",
    "        for adjacent, weight in graph[current_node].items():    # 데이터 키에 키와 벨류들 있다!   # BigO : 최대 간선 수 만큼 : O(E)\n",
    "            if adjacent in keys and keys[adjacent] > weight:\n",
    "                keys[adjacent] = weight    #  값 갱신시 우선순위 큐 재구성 :\"decrease key\" - heapdict 라이브러리로  # heap 구조변경 : O(logV)\n",
    "                pi[adjacent] = current_node\n",
    "                \n",
    "    return mst, total_weight\n",
    "\n",
    "mygraph = {\n",
    "    'A': {'B': 7, 'D': 5},\n",
    "    'B': {'A': 7, 'D': 9, 'C': 8, 'E': 7},\n",
    "    'C': {'B': 8, 'E': 5},\n",
    "    'D': {'A': 5, 'B': 9, 'E': 7, 'F': 6},\n",
    "    'E': {'B': 7, 'C': 5, 'D': 7, 'F': 8, 'G': 9},\n",
    "    'F': {'D': 6, 'E': 8, 'G': 11},\n",
    "    'G': {'E': 9, 'F': 11}    \n",
    "}\n",
    "\n",
    "print(before_prim('A', myedges))\n",
    "\n",
    "print(prim('A', mygraph))\n",
    "#  총 O(v + VlogV + ElogV ) => O( ElogV) "
   ]
  }
 ],
 "metadata": {
  "kernelspec": {
   "display_name": "Python 3",
   "language": "python",
   "name": "python3"
  },
  "language_info": {
   "codemirror_mode": {
    "name": "ipython",
    "version": 3
   },
   "file_extension": ".py",
   "mimetype": "text/x-python",
   "name": "python",
   "nbconvert_exporter": "python",
   "pygments_lexer": "ipython3",
   "version": "3.7.6"
  }
 },
 "nbformat": 4,
 "nbformat_minor": 4
}
