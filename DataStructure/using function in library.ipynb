{
 "cells": [
  {
   "cell_type": "markdown",
   "metadata": {},
   "source": [
    "#### 정렬시 무조건 오름차순, 내림차순 != 반대로 바꾸기"
   ]
  },
  {
   "cell_type": "code",
   "execution_count": 1,
   "metadata": {
    "scrolled": true
   },
   "outputs": [
    {
     "data": {
      "text/plain": [
       "[1, 2, 3, 4, 5]"
      ]
     },
     "execution_count": 1,
     "metadata": {},
     "output_type": "execute_result"
    }
   ],
   "source": [
    "test = [1,2,3,4,5]\n",
    "test.sort()\n",
    "test"
   ]
  },
  {
   "cell_type": "code",
   "execution_count": 2,
   "metadata": {},
   "outputs": [
    {
     "data": {
      "text/plain": [
       "[5, 4, 3, 2, 1]"
      ]
     },
     "execution_count": 2,
     "metadata": {},
     "output_type": "execute_result"
    }
   ],
   "source": [
    "test.sort(reverse=True)\n",
    "test"
   ]
  },
  {
   "cell_type": "code",
   "execution_count": 3,
   "metadata": {},
   "outputs": [
    {
     "data": {
      "text/plain": [
       "[1, 2, 3, 4, 5]"
      ]
     },
     "execution_count": 3,
     "metadata": {},
     "output_type": "execute_result"
    }
   ],
   "source": [
    "test = [1,2,3,4,5]\n",
    "test"
   ]
  },
  {
   "cell_type": "code",
   "execution_count": 4,
   "metadata": {},
   "outputs": [
    {
     "data": {
      "text/plain": [
       "[5, 4, 3, 2, 1]"
      ]
     },
     "execution_count": 4,
     "metadata": {},
     "output_type": "execute_result"
    }
   ],
   "source": [
    "test.reverse()\n",
    "test"
   ]
  },
  {
   "cell_type": "code",
   "execution_count": 5,
   "metadata": {},
   "outputs": [
    {
     "data": {
      "text/plain": [
       "[1, 2, 3, 4, 5]"
      ]
     },
     "execution_count": 5,
     "metadata": {},
     "output_type": "execute_result"
    }
   ],
   "source": [
    "test.reverse()\n",
    "test"
   ]
  },
  {
   "cell_type": "markdown",
   "metadata": {},
   "source": [
    "#### list 만드는 형태들"
   ]
  },
  {
   "cell_type": "code",
   "execution_count": 1,
   "metadata": {},
   "outputs": [
    {
     "data": {
      "text/plain": [
       "[0, 0, 0, 0, 0]"
      ]
     },
     "execution_count": 1,
     "metadata": {},
     "output_type": "execute_result"
    }
   ],
   "source": [
    "#  index = 1~4 쓸거라면\n",
    "aa = [0]*(4+1)\n",
    "aa"
   ]
  },
  {
   "cell_type": "code",
   "execution_count": 2,
   "metadata": {},
   "outputs": [
    {
     "data": {
      "text/plain": [
       "[0, 0, 0, 0, 0]"
      ]
     },
     "execution_count": 2,
     "metadata": {},
     "output_type": "execute_result"
    }
   ],
   "source": [
    "bb = [ 0 for i in range(4+1)]\n",
    "bb"
   ]
  },
  {
   "cell_type": "code",
   "execution_count": 3,
   "metadata": {},
   "outputs": [
    {
     "data": {
      "text/plain": [
       "[[], [], [], [], []]"
      ]
     },
     "execution_count": 3,
     "metadata": {},
     "output_type": "execute_result"
    }
   ],
   "source": [
    "# 각 인덱스에 어떤 정보를 담고자 할때면...\n",
    "cc = [ [] for i in range(4+1)]\n",
    "cc"
   ]
  },
  {
   "cell_type": "code",
   "execution_count": 4,
   "metadata": {
    "scrolled": true
   },
   "outputs": [
    {
     "data": {
      "text/plain": [
       "[[], [], [], [], [1]]"
      ]
     },
     "execution_count": 4,
     "metadata": {},
     "output_type": "execute_result"
    }
   ],
   "source": [
    "# 1766번 문제, 4번 문제를 1번 앞으로\n",
    "cc[4].append(1)\n",
    "cc"
   ]
  },
  {
   "cell_type": "markdown",
   "metadata": {},
   "source": [
    "### 리스트 자료구조와 pop  + dict()"
   ]
  },
  {
   "cell_type": "code",
   "execution_count": 1,
   "metadata": {},
   "outputs": [],
   "source": [
    "from collections import deque"
   ]
  },
  {
   "cell_type": "code",
   "execution_count": null,
   "metadata": {},
   "outputs": [],
   "source": [
    "def bfs(start):\n",
    "    need_visit = deque()\n",
    "    visited = []\n",
    "    need_visit.append(start)\n",
    "    \n",
    "    while need_visit:\n",
    "        node = need_visit.popleft()\n",
    "        if node not in visited:\n",
    "            visited.append(node)\n",
    "            for i in data[node]:\n",
    "                need_visit.append(i)\n",
    "                \n",
    "    return visited\n",
    "    \n",
    "    "
   ]
  },
  {
   "cell_type": "code",
   "execution_count": 2,
   "metadata": {},
   "outputs": [],
   "source": [
    "import heapq"
   ]
  },
  {
   "cell_type": "code",
   "execution_count": null,
   "metadata": {},
   "outputs": [],
   "source": [
    "def dijkstra(start):\n",
    "    distances = [[1e9]*(n+1)]\n",
    "    distances[start] = 0\n",
    "    q = []\n",
    "    heapq.heappush(q, [distances[start],start])\n",
    "    \n",
    "    while q:\n",
    "        now_d, now_node = q.heapqpop()\n",
    "        if distances[now_node] < now_d:\n",
    "            continue\n",
    "        for d, next_node in data[now_node]:\n",
    "            cost = now_d + d\n",
    "            if distances[next_node] > cost:\n",
    "                distances[next_node] = cost\n",
    "                heapq.heappush(q, [cost, next_node])\n",
    "                \n",
    "    return distances"
   ]
  },
  {
   "cell_type": "code",
   "execution_count": null,
   "metadata": {},
   "outputs": [],
   "source": [
    "# dict()\n",
    "def dijkstra(start):\n",
    "    distances = {i:float('inf') for i in range(n)}\n",
    "    distances[start] = 0\n",
    "    q = []\n",
    "    heapq.heappush(q, [distances[start],start])\n",
    "    while q:\n",
    "        current_distance, current_node = q.heappop()\n",
    "        if distances[current_node] < current_distance:\n",
    "            continue\n",
    "        for distance, next_node in data[current_node]:\n",
    "            weight = current_distance + distance\n",
    "            if distances[next_node] > weight:\n",
    "                distances[next_node] = weight\n",
    "                heapq.heappush(q,[weight, next_node])\n",
    "    return distances"
   ]
  },
  {
   "cell_type": "markdown",
   "metadata": {},
   "source": [
    "#### heapq.heappush 와 heapq.heapify 차이"
   ]
  },
  {
   "cell_type": "code",
   "execution_count": 4,
   "metadata": {},
   "outputs": [],
   "source": [
    "from collections import defaultdict\n",
    "from heapq import *\n",
    "\n",
    "def prim(start, edges):\n",
    "    mst = list()\n",
    "    adjacent_edges = defaultdict(list)\n",
    "    \n",
    "    for weight, n1,n2 in edges:\n",
    "        adjacent_edges[n1].append((weight, n1,n2))\n",
    "        adjacent_edges[n2].append((weight, n2, n1))\n",
    "    connected_nodes = set(start)\n",
    "    candidate_edge = adjacent_edges[start]\n",
    "    heapify(candidate_edge)         # 별도의 리스트 없이 heap 형태를 한 번에 이용\n",
    "    \n",
    "    while candidate_edge:\n",
    "        weight, n1,n2 = heappop(candidate_edge)\n",
    "        if n2 not in connected_nodes:    \n",
    "            connected_nodes.add(n2)\n",
    "            mst.append((weight,n1,n2))\n",
    "            \n",
    "            for edge in adjacent_edges[n2]:\n",
    "                if edge[2] not in connected_nodes:\n",
    "                    heappush(candidate_edge, edge)\n",
    "                    \n",
    "    return mst"
   ]
  },
  {
   "cell_type": "code",
   "execution_count": 6,
   "metadata": {},
   "outputs": [
    {
     "data": {
      "text/plain": [
       "[(5, 'A', 'D'),\n",
       " (6, 'D', 'F'),\n",
       " (7, 'A', 'B'),\n",
       " (7, 'B', 'E'),\n",
       " (5, 'E', 'C'),\n",
       " (9, 'E', 'G')]"
      ]
     },
     "execution_count": 6,
     "metadata": {},
     "output_type": "execute_result"
    }
   ],
   "source": [
    "myedges = [\n",
    "    (7, 'A', 'B'), (5, 'A', 'D'),\n",
    "    (8, 'B', 'C'), (9, 'B', 'D'), (7, 'B', 'E'),\n",
    "    (5, 'C', 'E'),\n",
    "    (7, 'D', 'E'), (6, 'D', 'F'),\n",
    "    (8, 'E', 'F'), (9, 'E', 'G'),\n",
    "    (11, 'F', 'G')\n",
    "]\n",
    "prim('A',myedges)"
   ]
  },
  {
   "cell_type": "markdown",
   "metadata": {},
   "source": [
    "### dict() 와 heapdict() 차이\n",
    "- heapdict()는 heapq와 다르게 우선순위에 맞춰 데이터를 효율적으로 변경\n",
    "- 일단 heapq는 리스트로 앞에 숫자 데이터 넣어줬어야 -> dict안의 데이터 그렇게 하려면 복잡해 지지"
   ]
  },
  {
   "cell_type": "code",
   "execution_count": 19,
   "metadata": {},
   "outputs": [
    {
     "name": "stdout",
     "output_type": "stream",
     "text": [
      "[('B', inf), ('C', inf), ('D', inf), ('E', inf), ('F', inf), ('G', inf), ('A', 0)]\n",
      "[('C', inf), ('E', inf), ('F', inf), ('G', inf), ('B', 7), ('D', 5)]\n",
      "[('C', inf), ('G', inf), ('B', 7), ('E', 7), ('F', 6)]\n",
      "[('C', inf), ('B', 7), ('E', 7), ('G', 11)]\n",
      "[('E', 7), ('G', 11), ('C', 8)]\n",
      "[('C', 5), ('G', 9)]\n",
      "[('G', 9)]\n"
     ]
    },
    {
     "data": {
      "text/plain": [
       "([['A', 'A', 0],\n",
       "  ['A', 'D', 5],\n",
       "  ['D', 'F', 6],\n",
       "  ['A', 'B', 7],\n",
       "  ['D', 'E', 7],\n",
       "  ['E', 'C', 5],\n",
       "  ['E', 'G', 9]],\n",
       " 39)"
      ]
     },
     "execution_count": 19,
     "metadata": {},
     "output_type": "execute_result"
    }
   ],
   "source": [
    "# 개선된 프림 알고리즘\n",
    "\n",
    "mygraph = {\n",
    "    'A': {'B': 7, 'D': 5},\n",
    "    'B': {'A': 7, 'D': 9, 'C': 8, 'E': 7},\n",
    "    'C': {'B': 8, 'E': 5},\n",
    "    'D': {'A': 5, 'B': 9, 'E': 7, 'F': 6},\n",
    "    'E': {'B': 7, 'C': 5, 'D': 7, 'F': 8, 'G': 9},\n",
    "    'F': {'D': 6, 'E': 8, 'G': 11},\n",
    "    'G': {'E': 9, 'F': 11}    \n",
    "}\n",
    "\n",
    "from heapdict import heapdict\n",
    "\n",
    "def prim(start, graph):\n",
    "    mst, keys, pi, total_weight = list(), heapdict(), dict(), 0\n",
    "    \n",
    "    for node in graph.keys():   #dict()를 key 값으로 꺼내는\n",
    "        keys[node] = float('inf')    # heapdict() 데이터 넣기는  dict()와 유사\n",
    "        pi[node] = None\n",
    "    keys[start], pi[start]=0, start\n",
    "    \n",
    "    while keys:\n",
    "#         print(list(keys.items()))\n",
    "        current_node, current_key = keys.popitem()   # dict()의 items들이 우선순위 큐로\n",
    "        mst.append([pi[current_node], current_node, current_key])\n",
    "        total_weight += current_key\n",
    "        \n",
    "        for adjacent, weight in mygraph[current_node].items():  # dict의 items\n",
    "            if adjacent in keys and weight < keys[adjacent]:\n",
    "                keys[adjacent] = weight   # 값 변경\n",
    "                pi[adjacent] = current_node   # 이전 노드 -> 다음노드(최소간선비용) 정보 update\n",
    "    return mst, total_weight\n",
    "prim('A', mygraph)"
   ]
  }
 ],
 "metadata": {
  "kernelspec": {
   "display_name": "Python 3",
   "language": "python",
   "name": "python3"
  },
  "language_info": {
   "codemirror_mode": {
    "name": "ipython",
    "version": 3
   },
   "file_extension": ".py",
   "mimetype": "text/x-python",
   "name": "python",
   "nbconvert_exporter": "python",
   "pygments_lexer": "ipython3",
   "version": "3.7.6"
  }
 },
 "nbformat": 4,
 "nbformat_minor": 4
}
